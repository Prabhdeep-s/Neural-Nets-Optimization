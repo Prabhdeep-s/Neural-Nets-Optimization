{
 "cells": [
  {
   "cell_type": "code",
   "execution_count": 1,
   "metadata": {},
   "outputs": [],
   "source": [
    "import pandas as pd"
   ]
  },
  {
   "cell_type": "code",
   "execution_count": 2,
   "metadata": {},
   "outputs": [],
   "source": [
    "data = pd.read_csv(r\"D:\\Projects\\DS_ML_Projects\\COMP903Project\\Dataset\\News\\TILDataset.csv\")"
   ]
  },
  {
   "cell_type": "code",
   "execution_count": 3,
   "metadata": {},
   "outputs": [
    {
     "data": {
      "text/html": [
       "<div>\n",
       "<style scoped>\n",
       "    .dataframe tbody tr th:only-of-type {\n",
       "        vertical-align: middle;\n",
       "    }\n",
       "\n",
       "    .dataframe tbody tr th {\n",
       "        vertical-align: top;\n",
       "    }\n",
       "\n",
       "    .dataframe thead th {\n",
       "        text-align: right;\n",
       "    }\n",
       "</style>\n",
       "<table border=\"1\" class=\"dataframe\">\n",
       "  <thead>\n",
       "    <tr style=\"text-align: right;\">\n",
       "      <th></th>\n",
       "      <th>text</th>\n",
       "      <th>target</th>\n",
       "      <th>Word Count</th>\n",
       "    </tr>\n",
       "  </thead>\n",
       "  <tbody>\n",
       "    <tr>\n",
       "      <th>0</th>\n",
       "      <td>python courses python courses, python exercis...</td>\n",
       "      <td>academic interests</td>\n",
       "      <td>125</td>\n",
       "    </tr>\n",
       "    <tr>\n",
       "      <th>1</th>\n",
       "      <td>the learning point open digital education. a r...</td>\n",
       "      <td>academic interests</td>\n",
       "      <td>147</td>\n",
       "    </tr>\n",
       "    <tr>\n",
       "      <th>2</th>\n",
       "      <td>equl offers enzyme assay kits, reagent mixtur...</td>\n",
       "      <td>academic interests</td>\n",
       "      <td>353</td>\n",
       "    </tr>\n",
       "    <tr>\n",
       "      <th>3</th>\n",
       "      <td>tech news, latest technology, mobiles, laptops...</td>\n",
       "      <td>academic interests</td>\n",
       "      <td>143</td>\n",
       "    </tr>\n",
       "    <tr>\n",
       "      <th>4</th>\n",
       "      <td>the best it certification materials in usa | k...</td>\n",
       "      <td>academic interests</td>\n",
       "      <td>364</td>\n",
       "    </tr>\n",
       "  </tbody>\n",
       "</table>\n",
       "</div>"
      ],
      "text/plain": [
       "                                                text              target  \\\n",
       "0   python courses python courses, python exercis...  academic interests   \n",
       "1  the learning point open digital education. a r...  academic interests   \n",
       "2   equl offers enzyme assay kits, reagent mixtur...  academic interests   \n",
       "3  tech news, latest technology, mobiles, laptops...  academic interests   \n",
       "4  the best it certification materials in usa | k...  academic interests   \n",
       "\n",
       "   Word Count  \n",
       "0         125  \n",
       "1         147  \n",
       "2         353  \n",
       "3         143  \n",
       "4         364  "
      ]
     },
     "execution_count": 3,
     "metadata": {},
     "output_type": "execute_result"
    }
   ],
   "source": [
    "data.head()"
   ]
  },
  {
   "cell_type": "code",
   "execution_count": 4,
   "metadata": {},
   "outputs": [],
   "source": [
    "data = data.dropna()"
   ]
  },
  {
   "cell_type": "code",
   "execution_count": 5,
   "metadata": {},
   "outputs": [
    {
     "data": {
      "text/plain": [
       "871909"
      ]
     },
     "execution_count": 5,
     "metadata": {},
     "output_type": "execute_result"
    }
   ],
   "source": [
    "len(data)"
   ]
  },
  {
   "cell_type": "code",
   "execution_count": 6,
   "metadata": {},
   "outputs": [],
   "source": [
    "grouped = data.groupby('target')\n",
    "result = grouped['Word Count'].agg(['max', 'min', 'median'])"
   ]
  },
  {
   "cell_type": "code",
   "execution_count": 7,
   "metadata": {},
   "outputs": [
    {
     "data": {
      "text/html": [
       "<div>\n",
       "<style scoped>\n",
       "    .dataframe tbody tr th:only-of-type {\n",
       "        vertical-align: middle;\n",
       "    }\n",
       "\n",
       "    .dataframe tbody tr th {\n",
       "        vertical-align: top;\n",
       "    }\n",
       "\n",
       "    .dataframe thead th {\n",
       "        text-align: right;\n",
       "    }\n",
       "</style>\n",
       "<table border=\"1\" class=\"dataframe\">\n",
       "  <thead>\n",
       "    <tr style=\"text-align: right;\">\n",
       "      <th></th>\n",
       "      <th>max</th>\n",
       "      <th>min</th>\n",
       "      <th>median</th>\n",
       "    </tr>\n",
       "    <tr>\n",
       "      <th>target</th>\n",
       "      <th></th>\n",
       "      <th></th>\n",
       "      <th></th>\n",
       "    </tr>\n",
       "  </thead>\n",
       "  <tbody>\n",
       "    <tr>\n",
       "      <th>academic interests</th>\n",
       "      <td>500</td>\n",
       "      <td>100</td>\n",
       "      <td>292.0</td>\n",
       "    </tr>\n",
       "    <tr>\n",
       "      <th>arts and culture</th>\n",
       "      <td>500</td>\n",
       "      <td>100</td>\n",
       "      <td>349.0</td>\n",
       "    </tr>\n",
       "    <tr>\n",
       "      <th>automotives</th>\n",
       "      <td>500</td>\n",
       "      <td>100</td>\n",
       "      <td>388.0</td>\n",
       "    </tr>\n",
       "    <tr>\n",
       "      <th>books and literature</th>\n",
       "      <td>500</td>\n",
       "      <td>100</td>\n",
       "      <td>167.0</td>\n",
       "    </tr>\n",
       "    <tr>\n",
       "      <th>business and finance</th>\n",
       "      <td>500</td>\n",
       "      <td>100</td>\n",
       "      <td>355.0</td>\n",
       "    </tr>\n",
       "    <tr>\n",
       "      <th>careers</th>\n",
       "      <td>500</td>\n",
       "      <td>100</td>\n",
       "      <td>240.0</td>\n",
       "    </tr>\n",
       "    <tr>\n",
       "      <th>family and relationships</th>\n",
       "      <td>500</td>\n",
       "      <td>100</td>\n",
       "      <td>306.0</td>\n",
       "    </tr>\n",
       "    <tr>\n",
       "      <th>food and drinks</th>\n",
       "      <td>500</td>\n",
       "      <td>100</td>\n",
       "      <td>362.0</td>\n",
       "    </tr>\n",
       "    <tr>\n",
       "      <th>health</th>\n",
       "      <td>500</td>\n",
       "      <td>100</td>\n",
       "      <td>279.0</td>\n",
       "    </tr>\n",
       "    <tr>\n",
       "      <th>healthy living</th>\n",
       "      <td>500</td>\n",
       "      <td>100</td>\n",
       "      <td>347.0</td>\n",
       "    </tr>\n",
       "    <tr>\n",
       "      <th>hobbies and interests</th>\n",
       "      <td>500</td>\n",
       "      <td>100</td>\n",
       "      <td>361.0</td>\n",
       "    </tr>\n",
       "    <tr>\n",
       "      <th>home and garden</th>\n",
       "      <td>500</td>\n",
       "      <td>100</td>\n",
       "      <td>352.0</td>\n",
       "    </tr>\n",
       "    <tr>\n",
       "      <th>movies</th>\n",
       "      <td>500</td>\n",
       "      <td>100</td>\n",
       "      <td>196.0</td>\n",
       "    </tr>\n",
       "    <tr>\n",
       "      <th>music and audio</th>\n",
       "      <td>500</td>\n",
       "      <td>100</td>\n",
       "      <td>238.0</td>\n",
       "    </tr>\n",
       "    <tr>\n",
       "      <th>news and politics</th>\n",
       "      <td>500</td>\n",
       "      <td>100</td>\n",
       "      <td>281.0</td>\n",
       "    </tr>\n",
       "    <tr>\n",
       "      <th>personal finance</th>\n",
       "      <td>500</td>\n",
       "      <td>100</td>\n",
       "      <td>332.0</td>\n",
       "    </tr>\n",
       "    <tr>\n",
       "      <th>pets</th>\n",
       "      <td>500</td>\n",
       "      <td>100</td>\n",
       "      <td>320.0</td>\n",
       "    </tr>\n",
       "    <tr>\n",
       "      <th>pharmaceuticals, conditions, and symptoms</th>\n",
       "      <td>500</td>\n",
       "      <td>100</td>\n",
       "      <td>211.0</td>\n",
       "    </tr>\n",
       "    <tr>\n",
       "      <th>real estate</th>\n",
       "      <td>500</td>\n",
       "      <td>100</td>\n",
       "      <td>351.0</td>\n",
       "    </tr>\n",
       "    <tr>\n",
       "      <th>shopping</th>\n",
       "      <td>500</td>\n",
       "      <td>100</td>\n",
       "      <td>337.0</td>\n",
       "    </tr>\n",
       "    <tr>\n",
       "      <th>sports</th>\n",
       "      <td>500</td>\n",
       "      <td>100</td>\n",
       "      <td>295.0</td>\n",
       "    </tr>\n",
       "    <tr>\n",
       "      <th>style and fashion</th>\n",
       "      <td>500</td>\n",
       "      <td>100</td>\n",
       "      <td>274.0</td>\n",
       "    </tr>\n",
       "    <tr>\n",
       "      <th>technology and computing</th>\n",
       "      <td>500</td>\n",
       "      <td>100</td>\n",
       "      <td>335.0</td>\n",
       "    </tr>\n",
       "    <tr>\n",
       "      <th>television</th>\n",
       "      <td>500</td>\n",
       "      <td>100</td>\n",
       "      <td>242.0</td>\n",
       "    </tr>\n",
       "    <tr>\n",
       "      <th>travel</th>\n",
       "      <td>500</td>\n",
       "      <td>100</td>\n",
       "      <td>287.0</td>\n",
       "    </tr>\n",
       "    <tr>\n",
       "      <th>video gaming</th>\n",
       "      <td>500</td>\n",
       "      <td>100</td>\n",
       "      <td>354.0</td>\n",
       "    </tr>\n",
       "  </tbody>\n",
       "</table>\n",
       "</div>"
      ],
      "text/plain": [
       "                                           max  min  median\n",
       "target                                                     \n",
       "academic interests                         500  100   292.0\n",
       "arts and culture                           500  100   349.0\n",
       "automotives                                500  100   388.0\n",
       "books and literature                       500  100   167.0\n",
       "business and finance                       500  100   355.0\n",
       "careers                                    500  100   240.0\n",
       "family and relationships                   500  100   306.0\n",
       "food and drinks                            500  100   362.0\n",
       "health                                     500  100   279.0\n",
       "healthy living                             500  100   347.0\n",
       "hobbies and interests                      500  100   361.0\n",
       "home and garden                            500  100   352.0\n",
       "movies                                     500  100   196.0\n",
       "music and audio                            500  100   238.0\n",
       "news and politics                          500  100   281.0\n",
       "personal finance                           500  100   332.0\n",
       "pets                                       500  100   320.0\n",
       "pharmaceuticals, conditions, and symptoms  500  100   211.0\n",
       "real estate                                500  100   351.0\n",
       "shopping                                   500  100   337.0\n",
       "sports                                     500  100   295.0\n",
       "style and fashion                          500  100   274.0\n",
       "technology and computing                   500  100   335.0\n",
       "television                                 500  100   242.0\n",
       "travel                                     500  100   287.0\n",
       "video gaming                               500  100   354.0"
      ]
     },
     "execution_count": 7,
     "metadata": {},
     "output_type": "execute_result"
    }
   ],
   "source": [
    "result"
   ]
  },
  {
   "cell_type": "code",
   "execution_count": 8,
   "metadata": {},
   "outputs": [
    {
     "data": {
      "text/plain": [
       "target\n",
       "academic interests                           73134\n",
       "books and literature                         50544\n",
       "healthy living                               38681\n",
       "careers                                      38105\n",
       "news and politics                            37746\n",
       "shopping                                     36898\n",
       "style and fashion                            36430\n",
       "family and relationships                     36189\n",
       "business and finance                         35047\n",
       "automotives                                  35005\n",
       "pharmaceuticals, conditions, and symptoms    33245\n",
       "arts and culture                             32953\n",
       "sports                                       30676\n",
       "pets                                         30170\n",
       "hobbies and interests                        29944\n",
       "real estate                                  29806\n",
       "food and drinks                              29293\n",
       "home and garden                              28766\n",
       "video gaming                                 28688\n",
       "movies                                       27226\n",
       "travel                                       27121\n",
       "personal finance                             26415\n",
       "technology and computing                     25926\n",
       "music and audio                              25788\n",
       "television                                   24400\n",
       "health                                       23713\n",
       "Name: count, dtype: int64"
      ]
     },
     "execution_count": 8,
     "metadata": {},
     "output_type": "execute_result"
    }
   ],
   "source": [
    "data[\"target\"].value_counts()"
   ]
  },
  {
   "cell_type": "code",
   "execution_count": 12,
   "metadata": {},
   "outputs": [],
   "source": [
    "categories_to_keep = ['healthy living', 'family and relationships', 'business and finance', 'arts and culture', 'food and drinks',\n",
    "                      'hobbies and interests', 'real estate', 'style and fashion', 'news and politics', 'sports']"
   ]
  },
  {
   "cell_type": "code",
   "execution_count": 13,
   "metadata": {},
   "outputs": [],
   "source": [
    "data_filtered = data[data['target'].isin(categories_to_keep)]"
   ]
  },
  {
   "cell_type": "code",
   "execution_count": 14,
   "metadata": {},
   "outputs": [
    {
     "data": {
      "text/plain": [
       "target\n",
       "healthy living              38681\n",
       "news and politics           37746\n",
       "style and fashion           36430\n",
       "family and relationships    36189\n",
       "business and finance        35047\n",
       "arts and culture            32953\n",
       "sports                      30676\n",
       "hobbies and interests       29944\n",
       "real estate                 29806\n",
       "food and drinks             29293\n",
       "Name: count, dtype: int64"
      ]
     },
     "execution_count": 14,
     "metadata": {},
     "output_type": "execute_result"
    }
   ],
   "source": [
    "data_filtered[\"target\"].value_counts()"
   ]
  },
  {
   "cell_type": "code",
   "execution_count": 15,
   "metadata": {},
   "outputs": [],
   "source": [
    "maxRowsToKeep = 28000\n",
    "for category in categories_to_keep:\n",
    "    rows_with_value = data_filtered[data_filtered['target'] == str(category)]\n",
    "    rows_to_remove = rows_with_value.sample(n=(len(rows_with_value)-maxRowsToKeep))\n",
    "    data_filtered = data_filtered.drop(rows_to_remove.index)"
   ]
  },
  {
   "cell_type": "code",
   "execution_count": 16,
   "metadata": {},
   "outputs": [],
   "source": [
    "filtered_dfs = []\n",
    "for category in categories_to_keep:\n",
    "    category_df = data_filtered[data_filtered['target'] == str(category)]\n",
    "    sorted_category_df = category_df.sort_values(by='Word Count', ascending=True)\n",
    "    top_category_df = sorted_category_df.head(28000)\n",
    "    filtered_dfs.append(top_category_df)\n",
    "\n",
    "# Combine all the filtered dataframes into a new dataframe\n",
    "combined_df = pd.concat(filtered_dfs, ignore_index=True)"
   ]
  },
  {
   "cell_type": "code",
   "execution_count": 17,
   "metadata": {},
   "outputs": [
    {
     "data": {
      "text/plain": [
       "target\n",
       "healthy living              28000\n",
       "family and relationships    28000\n",
       "business and finance        28000\n",
       "arts and culture            28000\n",
       "food and drinks             28000\n",
       "hobbies and interests       28000\n",
       "real estate                 28000\n",
       "style and fashion           28000\n",
       "news and politics           28000\n",
       "sports                      28000\n",
       "Name: count, dtype: int64"
      ]
     },
     "execution_count": 17,
     "metadata": {},
     "output_type": "execute_result"
    }
   ],
   "source": [
    "combined_df[\"target\"].value_counts()"
   ]
  },
  {
   "cell_type": "code",
   "execution_count": 18,
   "metadata": {},
   "outputs": [],
   "source": [
    "combined_df = combined_df[['text', 'target']]"
   ]
  },
  {
   "cell_type": "code",
   "execution_count": 21,
   "metadata": {},
   "outputs": [],
   "source": [
    "combined_df = combined_df.sample(frac=1).reset_index(drop=True)"
   ]
  },
  {
   "cell_type": "code",
   "execution_count": 22,
   "metadata": {},
   "outputs": [
    {
     "data": {
      "text/html": [
       "<div>\n",
       "<style scoped>\n",
       "    .dataframe tbody tr th:only-of-type {\n",
       "        vertical-align: middle;\n",
       "    }\n",
       "\n",
       "    .dataframe tbody tr th {\n",
       "        vertical-align: top;\n",
       "    }\n",
       "\n",
       "    .dataframe thead th {\n",
       "        text-align: right;\n",
       "    }\n",
       "</style>\n",
       "<table border=\"1\" class=\"dataframe\">\n",
       "  <thead>\n",
       "    <tr style=\"text-align: right;\">\n",
       "      <th></th>\n",
       "      <th>text</th>\n",
       "      <th>target</th>\n",
       "    </tr>\n",
       "  </thead>\n",
       "  <tbody>\n",
       "    <tr>\n",
       "      <th>0</th>\n",
       "      <td>NEW DELHI: The Indian men's hockey team's meda...</td>\n",
       "      <td>sports</td>\n",
       "    </tr>\n",
       "    <tr>\n",
       "      <th>1</th>\n",
       "      <td>levels. To cut short we should :Eat plenty of ...</td>\n",
       "      <td>food and drinks</td>\n",
       "    </tr>\n",
       "    <tr>\n",
       "      <th>2</th>\n",
       "      <td>You have a grocery store in your apartment com...</td>\n",
       "      <td>hobbies and interests</td>\n",
       "    </tr>\n",
       "    <tr>\n",
       "      <th>3</th>\n",
       "      <td>Mirror writer and single mom Anjana Vaswani ch...</td>\n",
       "      <td>arts and culture</td>\n",
       "    </tr>\n",
       "    <tr>\n",
       "      <th>4</th>\n",
       "      <td>What's more; it works for your entire body and...</td>\n",
       "      <td>healthy living</td>\n",
       "    </tr>\n",
       "  </tbody>\n",
       "</table>\n",
       "</div>"
      ],
      "text/plain": [
       "                                                text                 target\n",
       "0  NEW DELHI: The Indian men's hockey team's meda...                 sports\n",
       "1  levels. To cut short we should :Eat plenty of ...        food and drinks\n",
       "2  You have a grocery store in your apartment com...  hobbies and interests\n",
       "3  Mirror writer and single mom Anjana Vaswani ch...       arts and culture\n",
       "4  What's more; it works for your entire body and...         healthy living"
      ]
     },
     "execution_count": 22,
     "metadata": {},
     "output_type": "execute_result"
    }
   ],
   "source": [
    "combined_df.head()"
   ]
  },
  {
   "cell_type": "code",
   "execution_count": 23,
   "metadata": {},
   "outputs": [],
   "source": [
    "combined_df.to_csv(r\"..\\Dataset3\\IAB_News_balanced.csv\", index=False)"
   ]
  }
 ],
 "metadata": {
  "kernelspec": {
   "display_name": "nlpd",
   "language": "python",
   "name": "python3"
  },
  "language_info": {
   "codemirror_mode": {
    "name": "ipython",
    "version": 3
   },
   "file_extension": ".py",
   "mimetype": "text/x-python",
   "name": "python",
   "nbconvert_exporter": "python",
   "pygments_lexer": "ipython3",
   "version": "3.10.1"
  }
 },
 "nbformat": 4,
 "nbformat_minor": 2
}
