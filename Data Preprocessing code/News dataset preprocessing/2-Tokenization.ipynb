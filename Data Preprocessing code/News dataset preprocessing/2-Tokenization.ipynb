{
 "cells": [
  {
   "cell_type": "code",
   "execution_count": 1,
   "metadata": {},
   "outputs": [],
   "source": [
    "import pandas as pd\n",
    "import sys\n",
    "sys.path.append('../Tokenizer')\n",
    "from CustomTokenizer import preprocess_text_Custom"
   ]
  },
  {
   "cell_type": "code",
   "execution_count": 2,
   "metadata": {},
   "outputs": [],
   "source": [
    "data = pd.read_csv(r\"..\\Dataset3\\IAB_News_balanced.csv\")"
   ]
  },
  {
   "cell_type": "code",
   "execution_count": 3,
   "metadata": {},
   "outputs": [
    {
     "data": {
      "text/plain": [
       "280000"
      ]
     },
     "execution_count": 3,
     "metadata": {},
     "output_type": "execute_result"
    }
   ],
   "source": [
    "len(data)"
   ]
  },
  {
   "cell_type": "code",
   "execution_count": 14,
   "metadata": {},
   "outputs": [
    {
     "name": "stdout",
     "output_type": "stream",
     "text": [
      "NEW DELHI: The Indian men's hockey team's medal-less and rudder-less Commonwealth Games performance has brought chief coach Sjoerd Marijne under the scanner with Hockey India scheduling a performance review meeting later this week.ALSO READ - CWG: Indian men's hockey team loses to England in bronze play-offIt has been learnt that some senior players of the team, led by skipper Manpreet Singh, PR Sreejesh and Rupinder Pal Singh, met top HI officials on Tuesday and presented their explanation for the performance.It is for the first time in 12 years (since 2006) that India failed to win a single medal in hockey at the CWG and this hasn't gone down well with the national federation, which said that it won't shy away from taking tough decisions after the review meeting.According to a Hockey India official, not just the players, the coach's performance will also be scrutinised and corrective measures will be taken, if needed, as three important tournaments -- Champions Trophy, Asian Games and the season-ending World Cup -- are lined up this year.\"The performance in Gold Coast is definitely not acceptable. It is below-par to say the least. We have been providing all facilities to the team but they just fail to deliver in big events,\" the HI official said.\"We were one of the medal favourites but look how we performed against lower-ranked teams like Wales, Pakistan, New Zealand and England.\"India were particularly poor in the 2-2 draw against Pakistan, conceding the equaliser with just seven seconds left on the clock.It has been earlier reported that some senior players were unhappy with chief coach Marijne's decision to blood youngsters like Vivek Sagar Prasad, Dilpreet Singh, Sumit, Gurinder Singh in place of experienced pros such as Sardar Singh and Ramandeep Singh in the CWG-bound squad.And the HI official said all these issues will be examined during the review meeting.\"Hockey is a team game and the coach is also accountable for players' performances. It will be too early to comment anything but Sjoerd too will have to come up with answers for the poor show.\"In the past too, HI's hire and fire policy on foreign coaches, including Marijne's predecessors Roelant Oltmans, Terry Walsh, Michael Nobbs and Ric Charlesworth has come in for sharp criticism.Even though Marijne's draws his salary from the Sports Authority of India, it is HI which reviews his performance.Marijne is presently at his home in Netherlands and is expected to join the national camp in Bengaluru from April 27. But sources said he would arrive in India only in the first week of May due to some visa issues.\n",
      "levels. To cut short we should :Eat plenty of fruits vegetables and appropriate cholesterol rich foods. Drink plenty of water and sometimes limited amount of alcohol to keep yourself happy and stress free. Smoke fresh air by brisk walking daily. Do not exercise your brain on negative thoughts. Stress your muscles to keep yourself active and healthy. Enjoy your life the way it comes and think all happens for the best. Best of luck The article has been contributed by:Dr. Amit Sinkar, MBBS, DNB (Med.), DNB (Card), Consultant Cardiologist, MMF Joshi & Ratna Hospital, PuneE-mail: dramitsinkar@yahoo.comDisclaimer: The views and opinions expressed by the Doctors are their independent professional judgment and we do not take any responsibility for the accuracy of their views. This should not be considered as a substitute for Physician's advice. Please consult your treating Physician for more details.\n",
      "You have a grocery store in your apartment complex, but after a long day at work, you still have to whip up a meal for you and your family. Ordering out often isn’t a healthy option. So, what do you do? Turn to your neighbours. In many big apartment complexes, residents with a passion to cook are not only trying out different dishes for loved ones at home, but for anyone one else in the vicinity — all for a nominal price.The apartment complex in JP Nagar where Nanda Jain lives has an app especially for residents, where she puts up information about what’s cooking in her house. Those who want to sample the dishes can call her and take back home-cooked food. Every day, Nanda updates people in her complex about her lunch, dinner and snacks menu. If she is making Vada Pav at tea time, she makes 4-5 extra. “If no one orders, we eat it at home. This way, none of my resources get wasted and I get cash for it as well. It works for both parties — I get to finish whatever food I have made and the other person gets to feast on home-cooked dishes,” says Nanda.Nidhi Mehta, a mother of two, began trying different dishes at home after her kids, who always sought something new to eat, couldn’t digest the spicy, oily food in restaurants. This became her hobby and soon, a business. A resident of Begur, she supplies lunch and dinner to people in apartment complexes in a five-kilometre radius. “I wanted people to taste North Indian cuisine. I started off by catering for birthday parties, after which my friends motivated me to take it up on an everyday basis. I provide vegetarian and non-vegetarian lunch and dinner every day, with special dishes on weekends. I plan the menu two days in advance and only make as much as is required for the orders I receive,” she says. And how does she manage this while also taking care of two school-going children? “I get orders for lunch at 11 am-11.30 am, which is ready by 1.45 pm. The dinner orders come in around 7 pm. In between, I spend time with my children,” says Nidhi.Both Nanda and Nidhi’s clientele includes bachelors and families, and the advertising, they say, is done through word of mouth.\n",
      "Mirror writer and single mom Anjana Vaswani chats with three others of her tribe on raising kids alone with one eye on blood pressure. Two months ago, just days before the final round of admissions to kindergarten and Grade 1 under the Right to Education quota, panicking single mothers flocked to BMC help centres. Their applications had been rejected because the fathers' income certificates were missing. The mothers' certificates weren't acceptable as substitutes. It made newspaper copy, but ask a single mother, and she'll tell you niggles like these are a regular part of her life. Official paperwork that can be a nightmare in our patriarchal system is just the garnish on a gateaux of stress, guilt, feelings of isolation, stigma and self-doubt. Is her health likely to be impacted negatively in the long run? The answer though obvious is now confirmed by a study published in the Journal of Epidemiology and Community Health which assessed over 25,000 women across 15 countries. It focused on women who had children before the age of 18 and also examined, \"whether doing it alone is worse in countries with relatively weak social and safety nets.\" Vital point, because our social structure may just be our redeemer. Not only does it alleviate the guilt when you leave your child with a grandparent, it allows us time for a fitness routine which, together, may render studies such as these altogether inapposite. This means you don't get to write us off yet. As I see friends, many, a lot younger than me, negotiating around the rose garden of marriage with aching backs and knees, and thyroid problems (frequently also treating the headaches of family politics), I feel confident that we have at least as good a shot at health and longevity as any of them.'Suddenly, health became top priority' Anita Khiara, stay-at-home mum My daughters are now 14 and 11, but when I separated, they were nine and six. Since we had lived abroad for a while, moving to Mumbai postdivorce made it more challenging. We were grappling with a whole different culture, for one. I didn't even realise my health was headed downward. At the time, it appeared like a bout of illness. In the first three months, I lost enough weight to drop to an unhealthy size zero. It was only when I ended up fracturing my arm that I realised my health was crying out for attention. The consistent aches and pains, I realised, arose partly due to the stress that accompanies moving home, and of course, separating from someone you've been with for 12 years; 14 in my case if I count the courtship. No matter what anyone says, it's scary to be on your own after all those years. You wonder, will I be able to provide for us? Will my children be all right? Seeing my father cry, I remember, was very hard for me - the hurt that the divorce had caused him. That I returned to a city\n",
      "What's more; it works for your entire body and helps you achieve hand-eye coordination. AS you gradually master the basics of this activity, you can challenge yourself further by using different patterns like side steps, speed steps and cross mode. At moderate levels, you can lose as much as 931 calories by performing this activity for an hour. Jogging: Jogging is another ideal way to work every part of your body and shed some unwanted calories. In order to achieve the best calorie-burning potential, attempt working above 8 mph. You can also offer resistance to motion using rugged, rough terrains and hilly inclined areas. Read more Personal Health, Diet & Fitness stories on www.healthmeup.com\n"
     ]
    }
   ],
   "source": [
    "pd.set_option('display.max_colwidth', None)\n",
    "for txt in data[0:5]['text']:\n",
    "    print(txt.strip())"
   ]
  },
  {
   "cell_type": "code",
   "execution_count": 4,
   "metadata": {},
   "outputs": [],
   "source": [
    "# get the text column and tokenize all the values\n",
    "news = data['text'].values\n",
    "tokenized_News = [preprocess_text_Custom(text, False) for text in news]"
   ]
  },
  {
   "cell_type": "code",
   "execution_count": 11,
   "metadata": {},
   "outputs": [
    {
     "ename": "NameError",
     "evalue": "name 'tokenized_News' is not defined",
     "output_type": "error",
     "traceback": [
      "\u001b[1;31m---------------------------------------------------------------------------\u001b[0m",
      "\u001b[1;31mNameError\u001b[0m                                 Traceback (most recent call last)",
      "Cell \u001b[1;32mIn[11], line 1\u001b[0m\n\u001b[1;32m----> 1\u001b[0m \u001b[43mtokenized_News\u001b[49m[\u001b[38;5;241m0\u001b[39m:\u001b[38;5;241m5\u001b[39m]\n",
      "\u001b[1;31mNameError\u001b[0m: name 'tokenized_News' is not defined"
     ]
    }
   ],
   "source": [
    "tokenized_News[0:5]"
   ]
  },
  {
   "cell_type": "code",
   "execution_count": 6,
   "metadata": {},
   "outputs": [],
   "source": [
    "new_df = pd.DataFrame({\n",
    "    'Text': tokenized_News,\n",
    "    'Category': data['target']\n",
    "})"
   ]
  },
  {
   "cell_type": "code",
   "execution_count": 7,
   "metadata": {},
   "outputs": [
    {
     "data": {
      "text/plain": [
       "0"
      ]
     },
     "execution_count": 7,
     "metadata": {},
     "output_type": "execute_result"
    }
   ],
   "source": [
    "new_df[new_df['Text'].isnull()].shape[0]"
   ]
  },
  {
   "cell_type": "code",
   "execution_count": 8,
   "metadata": {},
   "outputs": [],
   "source": [
    "new_df.to_csv(r\"..\\Dataset3\\IAB_News_tokenized.csv\", index=False)"
   ]
  }
 ],
 "metadata": {
  "kernelspec": {
   "display_name": "nlpd",
   "language": "python",
   "name": "python3"
  },
  "language_info": {
   "codemirror_mode": {
    "name": "ipython",
    "version": 3
   },
   "file_extension": ".py",
   "mimetype": "text/x-python",
   "name": "python",
   "nbconvert_exporter": "python",
   "pygments_lexer": "ipython3",
   "version": "3.10.1"
  }
 },
 "nbformat": 4,
 "nbformat_minor": 2
}
