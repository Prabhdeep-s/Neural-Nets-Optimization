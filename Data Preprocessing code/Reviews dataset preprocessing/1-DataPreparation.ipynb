{
 "cells": [
  {
   "cell_type": "code",
   "execution_count": 90,
   "metadata": {},
   "outputs": [],
   "source": [
    "import pandas as pd\n",
    "import numpy as np"
   ]
  },
  {
   "cell_type": "code",
   "execution_count": 91,
   "metadata": {},
   "outputs": [],
   "source": [
    "data = pd.read_csv(r\"..\\Dataset1\\AFF_Reviews.csv\")"
   ]
  },
  {
   "cell_type": "code",
   "execution_count": 92,
   "metadata": {},
   "outputs": [],
   "source": [
    "#select only the relevant columns\n",
    "data = data[['Text','Score']]"
   ]
  },
  {
   "cell_type": "code",
   "execution_count": 93,
   "metadata": {},
   "outputs": [],
   "source": [
    "# drop columns with null values\n",
    "data = data.dropna()"
   ]
  },
  {
   "cell_type": "code",
   "execution_count": 100,
   "metadata": {},
   "outputs": [],
   "source": [
    "# remove rows with review length of less than 10 words\n",
    "def min_word_count(text):\n",
    "    return len(text.split())\n",
    "\n",
    "df_filtered = data[data['Text'].apply(min_word_count) > 10]\n",
    "df_filtered = df_filtered[df_filtered['Text'].apply(min_word_count) <= 300]"
   ]
  },
  {
   "cell_type": "code",
   "execution_count": 101,
   "metadata": {},
   "outputs": [
    {
     "name": "stdout",
     "output_type": "stream",
     "text": [
      "568454\n",
      "551576\n"
     ]
    }
   ],
   "source": [
    "print(len(data))\n",
    "print(len(df_filtered))"
   ]
  },
  {
   "cell_type": "code",
   "execution_count": 102,
   "metadata": {},
   "outputs": [
    {
     "name": "stdout",
     "output_type": "stream",
     "text": [
      "50587\n",
      "28897\n",
      "41113\n",
      "77659\n",
      "353320\n"
     ]
    }
   ],
   "source": [
    "for i in range(1,6):\n",
    "    print((df_filtered['Score'] == i).sum())"
   ]
  },
  {
   "cell_type": "code",
   "execution_count": 82,
   "metadata": {},
   "outputs": [],
   "source": [
    "# Shuffle the DataFrame\n",
    "df_filtered = df_filtered.reset_index(drop=True)"
   ]
  },
  {
   "cell_type": "code",
   "execution_count": 83,
   "metadata": {},
   "outputs": [],
   "source": [
    "maxRowsToKeep = 29030\n",
    "for i in range(1,6):\n",
    "    rows_with_value = df_filtered[df_filtered['Score'] == i]\n",
    "    rows_to_remove = rows_with_value.sample(n=(len(rows_with_value)-maxRowsToKeep))\n",
    "    df_filtered = df_filtered.drop(rows_to_remove.index)"
   ]
  },
  {
   "cell_type": "code",
   "execution_count": 84,
   "metadata": {},
   "outputs": [
    {
     "name": "stdout",
     "output_type": "stream",
     "text": [
      "29030\n",
      "29030\n",
      "29030\n",
      "29030\n",
      "29030\n"
     ]
    }
   ],
   "source": [
    "for i in range(1,6):\n",
    "    print((df_filtered['Score'] == i).sum())"
   ]
  },
  {
   "cell_type": "code",
   "execution_count": 87,
   "metadata": {},
   "outputs": [],
   "source": [
    "# Shuffle the DataFrame\n",
    "df_filtered = df_filtered.sample(frac=1).reset_index(drop=True)"
   ]
  },
  {
   "cell_type": "code",
   "execution_count": 88,
   "metadata": {},
   "outputs": [
    {
     "data": {
      "text/html": [
       "<div>\n",
       "<style scoped>\n",
       "    .dataframe tbody tr th:only-of-type {\n",
       "        vertical-align: middle;\n",
       "    }\n",
       "\n",
       "    .dataframe tbody tr th {\n",
       "        vertical-align: top;\n",
       "    }\n",
       "\n",
       "    .dataframe thead th {\n",
       "        text-align: right;\n",
       "    }\n",
       "</style>\n",
       "<table border=\"1\" class=\"dataframe\">\n",
       "  <thead>\n",
       "    <tr style=\"text-align: right;\">\n",
       "      <th></th>\n",
       "      <th>Text</th>\n",
       "      <th>Score</th>\n",
       "    </tr>\n",
       "  </thead>\n",
       "  <tbody>\n",
       "    <tr>\n",
       "      <th>0</th>\n",
       "      <td>I'm a long time fan of the original Chip Ahoy ...</td>\n",
       "      <td>3</td>\n",
       "    </tr>\n",
       "    <tr>\n",
       "      <th>1</th>\n",
       "      <td>I have had some really tasty chips in my lifet...</td>\n",
       "      <td>5</td>\n",
       "    </tr>\n",
       "    <tr>\n",
       "      <th>2</th>\n",
       "      <td>This vendor is clearly attempting to take adva...</td>\n",
       "      <td>1</td>\n",
       "    </tr>\n",
       "    <tr>\n",
       "      <th>3</th>\n",
       "      <td>I ordered the Original Beef Jerky, 3.25-Ounce ...</td>\n",
       "      <td>1</td>\n",
       "    </tr>\n",
       "    <tr>\n",
       "      <th>4</th>\n",
       "      <td>I've been trying to find a drink to replace th...</td>\n",
       "      <td>3</td>\n",
       "    </tr>\n",
       "    <tr>\n",
       "      <th>5</th>\n",
       "      <td>These are some of the best cookies that I have...</td>\n",
       "      <td>4</td>\n",
       "    </tr>\n",
       "    <tr>\n",
       "      <th>6</th>\n",
       "      <td>This is by far my favorite brand of soynut but...</td>\n",
       "      <td>5</td>\n",
       "    </tr>\n",
       "    <tr>\n",
       "      <th>7</th>\n",
       "      <td>I was a little disappointed with this particul...</td>\n",
       "      <td>3</td>\n",
       "    </tr>\n",
       "    <tr>\n",
       "      <th>8</th>\n",
       "      <td>I don't really have much confidence in any com...</td>\n",
       "      <td>3</td>\n",
       "    </tr>\n",
       "    <tr>\n",
       "      <th>9</th>\n",
       "      <td>When I saw these available through the Vine pr...</td>\n",
       "      <td>1</td>\n",
       "    </tr>\n",
       "    <tr>\n",
       "      <th>10</th>\n",
       "      <td>I ordered this for my birthday. I got birthday...</td>\n",
       "      <td>2</td>\n",
       "    </tr>\n",
       "    <tr>\n",
       "      <th>11</th>\n",
       "      <td>The smaller sized bottle is perfect for someon...</td>\n",
       "      <td>4</td>\n",
       "    </tr>\n",
       "    <tr>\n",
       "      <th>12</th>\n",
       "      <td>This was not our favorite smoked salmon throug...</td>\n",
       "      <td>2</td>\n",
       "    </tr>\n",
       "    <tr>\n",
       "      <th>13</th>\n",
       "      <td>They are delicious, yes, but I'm confused how ...</td>\n",
       "      <td>3</td>\n",
       "    </tr>\n",
       "    <tr>\n",
       "      <th>14</th>\n",
       "      <td>I was pleasantly surprised by the fresh taste ...</td>\n",
       "      <td>4</td>\n",
       "    </tr>\n",
       "    <tr>\n",
       "      <th>15</th>\n",
       "      <td>We enjoy this pasta for the health benefits to...</td>\n",
       "      <td>5</td>\n",
       "    </tr>\n",
       "    <tr>\n",
       "      <th>16</th>\n",
       "      <td>Disclaimer: I brewed this in a &lt;a href=\"http:/...</td>\n",
       "      <td>4</td>\n",
       "    </tr>\n",
       "    <tr>\n",
       "      <th>17</th>\n",
       "      <td>We have been gluten free for about 4 years now...</td>\n",
       "      <td>1</td>\n",
       "    </tr>\n",
       "    <tr>\n",
       "      <th>18</th>\n",
       "      <td>I didn't mind the price of this set because it...</td>\n",
       "      <td>4</td>\n",
       "    </tr>\n",
       "    <tr>\n",
       "      <th>19</th>\n",
       "      <td>I am not a huge coffee drinker but my husband ...</td>\n",
       "      <td>3</td>\n",
       "    </tr>\n",
       "  </tbody>\n",
       "</table>\n",
       "</div>"
      ],
      "text/plain": [
       "                                                 Text  Score\n",
       "0   I'm a long time fan of the original Chip Ahoy ...      3\n",
       "1   I have had some really tasty chips in my lifet...      5\n",
       "2   This vendor is clearly attempting to take adva...      1\n",
       "3   I ordered the Original Beef Jerky, 3.25-Ounce ...      1\n",
       "4   I've been trying to find a drink to replace th...      3\n",
       "5   These are some of the best cookies that I have...      4\n",
       "6   This is by far my favorite brand of soynut but...      5\n",
       "7   I was a little disappointed with this particul...      3\n",
       "8   I don't really have much confidence in any com...      3\n",
       "9   When I saw these available through the Vine pr...      1\n",
       "10  I ordered this for my birthday. I got birthday...      2\n",
       "11  The smaller sized bottle is perfect for someon...      4\n",
       "12  This was not our favorite smoked salmon throug...      2\n",
       "13  They are delicious, yes, but I'm confused how ...      3\n",
       "14  I was pleasantly surprised by the fresh taste ...      4\n",
       "15  We enjoy this pasta for the health benefits to...      5\n",
       "16  Disclaimer: I brewed this in a <a href=\"http:/...      4\n",
       "17  We have been gluten free for about 4 years now...      1\n",
       "18  I didn't mind the price of this set because it...      4\n",
       "19  I am not a huge coffee drinker but my husband ...      3"
      ]
     },
     "execution_count": 88,
     "metadata": {},
     "output_type": "execute_result"
    }
   ],
   "source": [
    "df_filtered.head(20)"
   ]
  },
  {
   "cell_type": "code",
   "execution_count": 89,
   "metadata": {},
   "outputs": [],
   "source": [
    "df_filtered.to_csv(r\"..\\Dataset1\\AFF_Reviews_balanced.csv\", index=False)"
   ]
  }
 ],
 "metadata": {
  "kernelspec": {
   "display_name": "nlpd",
   "language": "python",
   "name": "python3"
  },
  "language_info": {
   "codemirror_mode": {
    "name": "ipython",
    "version": 3
   },
   "file_extension": ".py",
   "mimetype": "text/x-python",
   "name": "python",
   "nbconvert_exporter": "python",
   "pygments_lexer": "ipython3",
   "version": "3.10.1"
  }
 },
 "nbformat": 4,
 "nbformat_minor": 2
}
