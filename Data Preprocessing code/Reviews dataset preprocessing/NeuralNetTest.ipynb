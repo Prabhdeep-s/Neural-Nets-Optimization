{
 "cells": [
  {
   "cell_type": "code",
   "execution_count": 1,
   "metadata": {},
   "outputs": [],
   "source": [
    "import pandas as pd\n",
    "import tensorflow as tf\n",
    "from tensorflow import keras\n",
    "import pickle\n",
    "import numpy as np\n",
    "import collections\n",
    "from sklearn import metrics\n",
    "from sklearn.metrics import confusion_matrix, classification_report"
   ]
  },
  {
   "cell_type": "code",
   "execution_count": 2,
   "metadata": {},
   "outputs": [],
   "source": [
    "with open(r'..\\Dataset1\\Dataset1Splits\\X_train.pkl', 'rb') as f:\n",
    "    X_train = pickle.load(f)\n",
    "\n",
    "with open(r'..\\Dataset1\\Dataset1Splits\\X_val.pkl', 'rb') as f:\n",
    "    X_val = pickle.load(f)\n",
    "\n",
    "with open(r'..\\Dataset1\\Dataset1Splits\\X_test.pkl', 'rb') as f:\n",
    "    X_test = pickle.load(f)\n",
    "\n",
    "with open(r'..\\Dataset1\\Dataset1Splits\\y_train.pkl', 'rb') as f:\n",
    "    y_train = pickle.load(f)\n",
    "\n",
    "with open(r'..\\Dataset1\\Dataset1Splits\\y_val.pkl', 'rb') as f:\n",
    "    y_val = pickle.load(f)\n",
    "\n",
    "with open(r'..\\Dataset1\\Dataset1Splits\\y_test.pkl', 'rb') as f:\n",
    "    y_test = pickle.load(f)"
   ]
  },
  {
   "cell_type": "code",
   "execution_count": 3,
   "metadata": {},
   "outputs": [
    {
     "name": "stdout",
     "output_type": "stream",
     "text": [
      "Counter({5: 20278, 4: 20276, 2: 20215, 1: 20215, 3: 20165})\n",
      "Counter({2: 5129, 3: 5074, 4: 5061, 1: 5058, 5: 4966})\n",
      "Counter({3: 4511, 5: 4506, 1: 4477, 4: 4413, 2: 4406})\n"
     ]
    }
   ],
   "source": [
    "print(collections.Counter(y_train))\n",
    "print(collections.Counter(y_val))\n",
    "print(collections.Counter(y_test))"
   ]
  },
  {
   "cell_type": "code",
   "execution_count": 4,
   "metadata": {},
   "outputs": [],
   "source": [
    "y_train = keras.utils.to_categorical(y_train-1, num_classes=5)\n",
    "y_val = keras.utils.to_categorical(y_val-1, num_classes=5)\n",
    "y_test = keras.utils.to_categorical(y_test-1, num_classes=5)"
   ]
  },
  {
   "cell_type": "code",
   "execution_count": 5,
   "metadata": {},
   "outputs": [],
   "source": [
    "with open(r'..\\Dataset1\\embeddingMatrixDS1.pkl', 'rb') as f:\n",
    "    embedding_matrix = pickle.load(f)"
   ]
  },
  {
   "cell_type": "code",
   "execution_count": 6,
   "metadata": {},
   "outputs": [],
   "source": [
    "num_tokens = 58810 # total vocabulary +1\n",
    "embedding_dim = 300 # dimension of the vector of a single word\n",
    "MAX_REVIEW_LEN = 2000 # maximum words in a review"
   ]
  },
  {
   "cell_type": "code",
   "execution_count": 7,
   "metadata": {},
   "outputs": [],
   "source": [
    "embedding_layer = keras.layers.Embedding(\n",
    "    num_tokens,\n",
    "    embedding_dim,\n",
    "    embeddings_initializer=keras.initializers.Constant(embedding_matrix),\n",
    "    input_length=MAX_REVIEW_LEN,\n",
    "    trainable=True\n",
    ")"
   ]
  },
  {
   "cell_type": "code",
   "execution_count": 8,
   "metadata": {},
   "outputs": [],
   "source": [
    "tf.random.set_seed(0)\n",
    "model = keras.Sequential()\n",
    "model.add(embedding_layer)\n",
    "# This layer will calculate an average of those vectors.\n",
    "model.add(keras.layers.GlobalAveragePooling1D())\n",
    "model.add(keras.layers.Dense(128, activation='relu', kernel_initializer=tf.keras.initializers.random_normal(seed=1)))\n",
    "model.add(keras.layers.Dense(64, activation='relu', kernel_initializer=tf.keras.initializers.random_normal(seed=1)))\n",
    "model.add(keras.layers.Dense(5, activation='softmax', kernel_initializer=tf.keras.initializers.random_normal(seed=1)))\n",
    "\n",
    "\n",
    "model.compile(optimizer='adam',\n",
    "              loss='categorical_crossentropy',\n",
    "              metrics=['accuracy'])"
   ]
  },
  {
   "cell_type": "code",
   "execution_count": 9,
   "metadata": {},
   "outputs": [
    {
     "name": "stdout",
     "output_type": "stream",
     "text": [
      "Epoch 1/25\n",
      "791/791 [==============================] - 11s 12ms/step - loss: 1.6095 - accuracy: 0.1987 - val_loss: 1.6094 - val_accuracy: 0.2028\n",
      "Epoch 2/25\n",
      "791/791 [==============================] - 9s 11ms/step - loss: 1.5388 - accuracy: 0.2557 - val_loss: 1.3573 - val_accuracy: 0.3722\n",
      "Epoch 3/25\n",
      "791/791 [==============================] - 9s 11ms/step - loss: 1.3233 - accuracy: 0.3864 - val_loss: 1.3451 - val_accuracy: 0.3773\n",
      "Epoch 4/25\n",
      "791/791 [==============================] - 9s 11ms/step - loss: 1.2032 - accuracy: 0.4714 - val_loss: 1.1812 - val_accuracy: 0.4794\n",
      "Epoch 5/25\n",
      "791/791 [==============================] - 9s 11ms/step - loss: 1.1254 - accuracy: 0.5163 - val_loss: 1.1543 - val_accuracy: 0.5084\n",
      "Epoch 6/25\n",
      "791/791 [==============================] - 9s 11ms/step - loss: 1.0825 - accuracy: 0.5391 - val_loss: 1.1570 - val_accuracy: 0.5010\n",
      "Epoch 7/25\n",
      "791/791 [==============================] - 9s 11ms/step - loss: 1.0566 - accuracy: 0.5548 - val_loss: 1.1526 - val_accuracy: 0.5031\n",
      "Epoch 8/25\n",
      "791/791 [==============================] - 9s 11ms/step - loss: 1.0338 - accuracy: 0.5674 - val_loss: 1.1291 - val_accuracy: 0.5230\n",
      "Epoch 9/25\n",
      "791/791 [==============================] - 9s 11ms/step - loss: 1.0082 - accuracy: 0.5807 - val_loss: 1.1913 - val_accuracy: 0.4953\n",
      "Epoch 10/25\n",
      "791/791 [==============================] - 9s 11ms/step - loss: 0.9873 - accuracy: 0.5905 - val_loss: 1.1769 - val_accuracy: 0.5193\n"
     ]
    }
   ],
   "source": [
    "NUM_EPOCHS = 25\n",
    "BATCH_SIZE = 128\n",
    "\n",
    "callback_trigger = keras.callbacks.EarlyStopping(monitor='val_loss', patience=2)\n",
    "history = model.fit(X_train, y_train, epochs=NUM_EPOCHS, batch_size=BATCH_SIZE, validation_data=(X_val, y_val), callbacks=[callback_trigger])"
   ]
  },
  {
   "cell_type": "code",
   "execution_count": 10,
   "metadata": {},
   "outputs": [
    {
     "name": "stdout",
     "output_type": "stream",
     "text": [
      "698/698 [==============================] - 1s 2ms/step - loss: 1.1706 - accuracy: 0.5221\n",
      "Test score:  1.1705772876739502\n",
      "Test accuracy:  0.5220723152160645\n"
     ]
    }
   ],
   "source": [
    "score = model.evaluate(X_test, y_test, verbose=1)\n",
    "print(\"Test score: \", score[0])\n",
    "print(\"Test accuracy: \", score[1])"
   ]
  },
  {
   "cell_type": "code",
   "execution_count": 11,
   "metadata": {},
   "outputs": [
    {
     "name": "stdout",
     "output_type": "stream",
     "text": [
      "698/698 [==============================] - 1s 1ms/step\n"
     ]
    }
   ],
   "source": [
    "y_prediction = model.predict(X_test)\n",
    "y_prediction = np.argmax(y_prediction, axis=1)\n",
    "y_actuals = np.argmax(y_test, axis=1)"
   ]
  },
  {
   "cell_type": "code",
   "execution_count": 12,
   "metadata": {},
   "outputs": [
    {
     "name": "stdout",
     "output_type": "stream",
     "text": [
      "SNN accuracy is 52.21%\n",
      "------------------------------------------------\n",
      "Confusion Matrix:\n",
      "      0     1     2     3     4\n",
      "0  2333  1279   395   174   296\n",
      "1   540  1912  1183   520   251\n",
      "2   147   763  1965  1266   370\n",
      "3    58   173   683  2287  1212\n",
      "4    62    74   188  1030  3152\n",
      "------------------------------------------------\n",
      "Classification Report:\n",
      "              precision    recall  f1-score   support\n",
      "\n",
      "           0       0.74      0.52      0.61      4477\n",
      "           1       0.46      0.43      0.44      4406\n",
      "           2       0.45      0.44      0.44      4511\n",
      "           3       0.43      0.52      0.47      4413\n",
      "           4       0.60      0.70      0.64      4506\n",
      "\n",
      "    accuracy                           0.52     22313\n",
      "   macro avg       0.53      0.52      0.52     22313\n",
      "weighted avg       0.54      0.52      0.52     22313\n",
      "\n"
     ]
    }
   ],
   "source": [
    "accuracy_score = metrics.accuracy_score(y_prediction, y_actuals)\n",
    "\n",
    "print('SNN accuracy is',str('{:04.2f}'.format(accuracy_score*100))+'%')\n",
    "print('------------------------------------------------')\n",
    "print('Confusion Matrix:')\n",
    "print(pd.DataFrame(confusion_matrix(y_actuals, y_prediction)))\n",
    "print('------------------------------------------------')\n",
    "print('Classification Report:')\n",
    "print(classification_report(y_actuals, y_prediction))"
   ]
  }
 ],
 "metadata": {
  "kernelspec": {
   "display_name": "nlpd",
   "language": "python",
   "name": "python3"
  },
  "language_info": {
   "codemirror_mode": {
    "name": "ipython",
    "version": 3
   },
   "file_extension": ".py",
   "mimetype": "text/x-python",
   "name": "python",
   "nbconvert_exporter": "python",
   "pygments_lexer": "ipython3",
   "version": "3.10.1"
  }
 },
 "nbformat": 4,
 "nbformat_minor": 2
}
