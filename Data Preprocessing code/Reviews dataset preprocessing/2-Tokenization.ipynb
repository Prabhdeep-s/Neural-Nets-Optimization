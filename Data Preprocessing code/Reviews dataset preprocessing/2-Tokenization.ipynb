{
 "cells": [
  {
   "cell_type": "code",
   "execution_count": 8,
   "metadata": {},
   "outputs": [],
   "source": [
    "import pandas as pd\n",
    "import sys\n",
    "import pickle\n",
    "from fasttext import load_model\n",
    "import gensim\n",
    "sys.path.append('../Tokenizer')\n",
    "from CustomTokenizer import preprocess_text_Custom"
   ]
  },
  {
   "cell_type": "code",
   "execution_count": 9,
   "metadata": {},
   "outputs": [],
   "source": [
    "data = pd.read_csv(r\"..\\Dataset1\\AFF_Reviews_balanced.csv\")"
   ]
  },
  {
   "cell_type": "code",
   "execution_count": 10,
   "metadata": {},
   "outputs": [
    {
     "data": {
      "text/plain": [
       "145150"
      ]
     },
     "execution_count": 10,
     "metadata": {},
     "output_type": "execute_result"
    }
   ],
   "source": [
    "len(data)"
   ]
  },
  {
   "cell_type": "code",
   "execution_count": 11,
   "metadata": {},
   "outputs": [],
   "source": [
    "# get the text column and tokenize all the values\n",
    "reviews = data['Text'].values\n",
    "tokenized_Reviews = [preprocess_text_Custom(text, False) for text in reviews]"
   ]
  },
  {
   "cell_type": "code",
   "execution_count": 12,
   "metadata": {},
   "outputs": [
    {
     "data": {
      "text/plain": [
       "['long time fan original chip ahoy cooky like since kid also soft chip ahoy ok still good original set review chewy gooey chocofudge expectation high expect taste bad order give fair balanced review seek help two others mom teenage daughter mom page good certainly horrible good experienced cookie baker know difficult mass produce cooky match home bake take consideration number one cooky somewhat soft also crumble take bite chewy cooky suppose hardly gooey bit fudge center gooey mean pull like hot cheese pizza nabisco claim gooey finally swallow mom experience unpleasant linger aftertaste yucky say least daughter though thought wonderful quote da bomb take five star review starsmom starsdaughter star overall star',\n",
       " 'really tasty chip lifetime say delectable one ever let tame sound garden tomato basil scare think mild flavor tangy slightly spicy taste pack quite punch surprise chip manufacturer try imitate flavor delicious five star word advice stay far away diet eat one two chip win able stop finish entire bag',\n",
       " 'vendor clearly attempt take advantage consumer pack use sell since double price look elsewhere intern find much good price place order product iherb com dozen oz cost ship day free',\n",
       " 'order original beef jerky ounce bags pack get today open box notice bag pack pack open already disappointed order shop amazon many year first time appear problem',\n",
       " 'try find drink replace soda drink daily like tea like amount sugar put tea enjoy read several review thought would try well guess read review think would important let people know tea pretty good lemon taste people like lemon tea like lemon say lemon flavor strong lemon tea taste try develope taste like lemon tea probably win fall love tea']"
      ]
     },
     "execution_count": 12,
     "metadata": {},
     "output_type": "execute_result"
    }
   ],
   "source": [
    "tokenized_Reviews[0:5]"
   ]
  },
  {
   "cell_type": "code",
   "execution_count": 13,
   "metadata": {},
   "outputs": [],
   "source": [
    "new_df = pd.DataFrame({\n",
    "    'Text': tokenized_Reviews,\n",
    "    'Score': data['Score']\n",
    "})"
   ]
  },
  {
   "cell_type": "code",
   "execution_count": 14,
   "metadata": {},
   "outputs": [],
   "source": [
    "new_df.to_csv(r\"..\\Dataset1\\AFF_Reviews_tokenized.csv\", index=False)"
   ]
  }
 ],
 "metadata": {
  "kernelspec": {
   "display_name": "nlpd",
   "language": "python",
   "name": "python3"
  },
  "language_info": {
   "codemirror_mode": {
    "name": "ipython",
    "version": 3
   },
   "file_extension": ".py",
   "mimetype": "text/x-python",
   "name": "python",
   "nbconvert_exporter": "python",
   "pygments_lexer": "ipython3",
   "version": "3.10.1"
  }
 },
 "nbformat": 4,
 "nbformat_minor": 2
}
