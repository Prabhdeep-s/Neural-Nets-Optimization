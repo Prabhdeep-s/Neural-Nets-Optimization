{
 "cells": [
  {
   "cell_type": "code",
   "execution_count": 1,
   "metadata": {},
   "outputs": [],
   "source": [
    "import pickle\n",
    "import numpy as np\n",
    "import pandas as pd\n",
    "from datetime import datetime\n",
    "import os\n",
    "\n",
    "import tensorflow as tf\n",
    "from tensorflow import keras\n",
    "from tensorflow.keras import layers, models\n",
    "import keras_tuner as kt\n",
    "from tensorflow.keras.callbacks import TensorBoard, ModelCheckpoint, EarlyStopping\n",
    "\n",
    "from sklearn import metrics\n",
    "from sklearn.metrics import confusion_matrix, classification_report"
   ]
  },
  {
   "cell_type": "code",
   "execution_count": 2,
   "metadata": {},
   "outputs": [],
   "source": [
    "with open(r'.\\Reviews_Dataset_Splits\\X_train.pkl', 'rb') as f:\n",
    "    X_train = pickle.load(f)\n",
    "\n",
    "with open(r'.\\Reviews_Dataset_Splits\\X_val.pkl', 'rb') as f:\n",
    "    X_val = pickle.load(f)\n",
    "\n",
    "with open(r'.\\Reviews_Dataset_Splits\\X_test.pkl', 'rb') as f:\n",
    "    X_test = pickle.load(f)\n",
    "\n",
    "with open(r'.\\Reviews_Dataset_Splits\\y_train.pkl', 'rb') as f:\n",
    "    y_train = pickle.load(f)\n",
    "\n",
    "with open(r'.\\Reviews_Dataset_Splits\\y_val.pkl', 'rb') as f:\n",
    "    y_val = pickle.load(f)\n",
    "\n",
    "with open(r'.\\Reviews_Dataset_Splits\\y_test.pkl', 'rb') as f:\n",
    "    y_test = pickle.load(f)\n",
    "\n",
    "y_train = keras.utils.to_categorical(y_train-1, num_classes=5)\n",
    "y_val = keras.utils.to_categorical(y_val-1, num_classes=5)\n",
    "y_test = keras.utils.to_categorical(y_test-1, num_classes=5)\n",
    "\n",
    "with open(r'.\\embeddingMatrix_Reviews.pkl', 'rb') as f:\n",
    "    embedding_matrix = pickle.load(f)\n",
    "\n",
    "num_tokens = len(embedding_matrix) # total vocabulary +1 or length of embedding matrix\n",
    "embedding_dim = 300 # dimension of the vector of a single word\n",
    "MAX_REVIEW_LEN = 250 # maximum words in a review\n",
    "num_classes = 5"
   ]
  },
  {
   "cell_type": "code",
   "execution_count": 4,
   "metadata": {},
   "outputs": [],
   "source": [
    "embedding_layer = keras.layers.Embedding(\n",
    "    num_tokens,\n",
    "    embedding_dim,\n",
    "    embeddings_initializer=keras.initializers.Constant(embedding_matrix),\n",
    "    input_length=MAX_REVIEW_LEN,\n",
    "    trainable=True)\n",
    "\n",
    "model = keras.Sequential()\n",
    "model.add(embedding_layer)\n",
    "\n",
    "activation = 'relu'\n",
    "kernel_initializer = 'he_uniform'\n",
    "\n",
    "model.add(layers.Conv1D(filters=96, kernel_size=5, activation=activation, kernel_initializer=kernel_initializer, padding='same'))\n",
    "model.add(layers.MaxPooling1D(pool_size=2))\n",
    "\n",
    "model.add(layers.Conv1D(filters=96, kernel_size=5, activation=activation, kernel_initializer=kernel_initializer, padding='same'))\n",
    "model.add(layers.Dropout(rate=0.4))\n",
    "model.add(layers.MaxPooling1D(pool_size=2))\n",
    "\n",
    "model.add(layers.Conv1D(filters=64, kernel_size=5, activation=activation, kernel_initializer=kernel_initializer, padding='same'))\n",
    "model.add(layers.BatchNormalization())\n",
    "model.add(layers.Dropout(rate=0.2))\n",
    "model.add(layers.MaxPooling1D(pool_size=2))\n",
    "\n",
    "model.add(layers.GlobalAveragePooling1D())\n",
    "model.add(layers.Dense(num_classes, activation='softmax'))\n",
    "\n",
    "model.compile(optimizer='Adam', loss='categorical_crossentropy', metrics=['accuracy'])"
   ]
  },
  {
   "cell_type": "code",
   "execution_count": 5,
   "metadata": {},
   "outputs": [
    {
     "name": "stdout",
     "output_type": "stream",
     "text": [
      "Epoch 1/3\n",
      "771/771 [==============================] - 17s 15ms/step - loss: 1.1905 - accuracy: 0.4944 - val_loss: 1.0979 - val_accuracy: 0.5509\n",
      "Epoch 2/3\n",
      "771/771 [==============================] - 11s 14ms/step - loss: 0.9078 - accuracy: 0.6351 - val_loss: 1.0701 - val_accuracy: 0.5648\n",
      "Epoch 3/3\n",
      "771/771 [==============================] - 11s 14ms/step - loss: 0.6012 - accuracy: 0.7684 - val_loss: 1.1309 - val_accuracy: 0.5968\n"
     ]
    }
   ],
   "source": [
    "NUM_EPOCHS = 3\n",
    "BATCH_SIZE = 128\n",
    "history = model.fit(X_train, y_train, epochs=NUM_EPOCHS, batch_size=BATCH_SIZE, validation_data=(X_val, y_val))"
   ]
  },
  {
   "cell_type": "code",
   "execution_count": 6,
   "metadata": {},
   "outputs": [
    {
     "name": "stdout",
     "output_type": "stream",
     "text": [
      "771/771 [==============================] - 2s 2ms/step - loss: 1.1309 - accuracy: 0.5969\n",
      "Validation loss:  1.1309280395507812\n",
      "Validation accuracy:  0.5968762636184692\n"
     ]
    }
   ],
   "source": [
    "score = model.evaluate(X_val, y_val, verbose=1)\n",
    "print(\"Validation loss: \", score[0])\n",
    "print(\"Validation accuracy: \", score[1])"
   ]
  },
  {
   "cell_type": "code",
   "execution_count": 7,
   "metadata": {},
   "outputs": [
    {
     "name": "stdout",
     "output_type": "stream",
     "text": [
      "680/680 [==============================] - 1s 2ms/step\n",
      "[[0.66560914 0.13116251 0.06000591 0.03182442 0.057096  ]\n",
      " [0.19775804 0.67255021 0.15814366 0.07078189 0.0602266 ]\n",
      " [0.08481387 0.13542301 0.63316583 0.1920439  0.10211688]\n",
      " [0.03003384 0.03925746 0.10877919 0.55829904 0.24791294]\n",
      " [0.02178511 0.02160682 0.03990541 0.14705075 0.53264758]]\n"
     ]
    }
   ],
   "source": [
    "y_prediction = model.predict(X_test)\n",
    "y_prediction = np.argmax(y_prediction, axis=1)\n",
    "y_actuals = np.argmax(y_test, axis=1)\n",
    "#Create confusion matrix and normalizes it over predicted (columns)\n",
    "result = confusion_matrix(y_actuals, y_prediction , normalize='pred')\n",
    "print(result)"
   ]
  },
  {
   "cell_type": "code",
   "execution_count": 8,
   "metadata": {},
   "outputs": [
    {
     "name": "stdout",
     "output_type": "stream",
     "text": [
      "CNN accuracy is 60.26%\n",
      "------------------------------------------------\n",
      "Confusion Matrix:\n",
      "      0     1     2     3     4\n",
      "0  3147   431   203   116   383\n",
      "1   935  2210   535   258   404\n",
      "2   401   445  2142   700   685\n",
      "3   142   129   368  2035  1663\n",
      "4   103    71   135   536  3573\n",
      "------------------------------------------------\n",
      "Classification Report:\n",
      "              precision    recall  f1-score   support\n",
      "\n",
      "           0       0.67      0.74      0.70      4280\n",
      "           1       0.67      0.51      0.58      4342\n",
      "           2       0.63      0.49      0.55      4373\n",
      "           3       0.56      0.47      0.51      4337\n",
      "           4       0.53      0.81      0.64      4418\n",
      "\n",
      "    accuracy                           0.60     21750\n",
      "   macro avg       0.61      0.60      0.60     21750\n",
      "weighted avg       0.61      0.60      0.60     21750\n",
      "\n"
     ]
    }
   ],
   "source": [
    "accuracy_score = metrics.accuracy_score(y_prediction, y_actuals)\n",
    "\n",
    "print('CNN accuracy is',str('{:04.2f}'.format(accuracy_score*100))+'%')\n",
    "print('------------------------------------------------')\n",
    "print('Confusion Matrix:')\n",
    "print(pd.DataFrame(confusion_matrix(y_actuals, y_prediction)))\n",
    "print('------------------------------------------------')\n",
    "print('Classification Report:')\n",
    "print(classification_report(y_actuals, y_prediction))"
   ]
  },
  {
   "cell_type": "code",
   "execution_count": 9,
   "metadata": {},
   "outputs": [],
   "source": [
    "import matplotlib.pyplot as plt\n",
    "import seaborn as sns"
   ]
  },
  {
   "cell_type": "code",
   "execution_count": 10,
   "metadata": {},
   "outputs": [
    {
     "data": {
      "image/png": "[encoded data removed]",
      "text/plain": [
       "<Figure size 640x480 with 2 Axes>"
      ]
     },
     "metadata": {},
     "output_type": "display_data"
    }
   ],
   "source": [
    "# Create a confusion matrix\n",
    "confusion_matrix = np.zeros((num_classes, num_classes))\n",
    "for i in range(len(y_prediction)):\n",
    "    confusion_matrix[y_actuals[i], y_prediction[i]] += 1\n",
    "\n",
    "# Normalize the confusion matrix to show percentages\n",
    "confusion_matrix = 100 * confusion_matrix / confusion_matrix.sum(axis=1, keepdims=True)\n",
    "\n",
    "lables = [1, 2, 3, 4, 5]\n",
    "# Create a heatmap with annotation\n",
    "annot_matrix = np.around(confusion_matrix, 1).astype(int)  # Round percentages to 1 decimal place\n",
    "ax = sns.heatmap(confusion_matrix, annot=annot_matrix, fmt='d', cmap=\"YlGnBu\", xticklabels=lables, yticklabels=lables)\n",
    "\n",
    "# Set the title and axis labels\n",
    "plt.title(\"Reviews Classification Heatmap (Percentage)\")\n",
    "plt.xlabel(\"Predicted Ratings\")\n",
    "plt.ylabel(\"Actual Ratings\")\n",
    "\n",
    "# Rotate the x-axis labels for better visibility\n",
    "plt.yticks(rotation=0)\n",
    "\n",
    "# Display the heatmap\n",
    "plt.show()"
   ]
  },
  {
   "cell_type": "code",
   "execution_count": 11,
   "metadata": {},
   "outputs": [],
   "source": [
    "from tensorflow.keras.models import load_model\n",
    "import os\n",
    "\n",
    "# Save the model\n",
    "model_save_path = 'SavedModels/CNN_BestModel.h5'\n",
    "model.save(model_save_path)"
   ]
  },
  {
   "cell_type": "code",
   "execution_count": 12,
   "metadata": {},
   "outputs": [
    {
     "name": "stdout",
     "output_type": "stream",
     "text": [
      "771/771 [==============================] - 2s 2ms/step - loss: 1.1309 - accuracy: 0.5969\n",
      "Validation loss:  1.1309280395507812\n",
      "Validation accuracy:  0.5968762636184692\n"
     ]
    }
   ],
   "source": [
    "# Load the model\n",
    "loaded_model = load_model(model_save_path)\n",
    "score2 = loaded_model.evaluate(X_val, y_val, verbose=1)\n",
    "print(\"Validation loss: \", score2[0])\n",
    "print(\"Validation accuracy: \", score2[1])"
   ]
  }
 ],
 "metadata": {
  "kernelspec": {
   "display_name": "nlpd",
   "language": "python",
   "name": "python3"
  },
  "language_info": {
   "codemirror_mode": {
    "name": "ipython",
    "version": 3
   },
   "file_extension": ".py",
   "mimetype": "text/x-python",
   "name": "python",
   "nbconvert_exporter": "python",
   "pygments_lexer": "ipython3",
   "version": "3.10.1"
  }
 },
 "nbformat": 4,
 "nbformat_minor": 2
}
