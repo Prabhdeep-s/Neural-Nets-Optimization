{
 "cells": [
  {
   "cell_type": "code",
   "execution_count": 1,
   "metadata": {},
   "outputs": [],
   "source": [
    "import pickle\n",
    "import numpy as np\n",
    "import pandas as pd\n",
    "from datetime import datetime\n",
    "import os\n",
    "\n",
    "import tensorflow as tf\n",
    "from tensorflow import keras\n",
    "from tensorflow.keras import layers, models\n",
    "import keras_tuner as kt\n",
    "from tensorflow.keras.callbacks import TensorBoard, ModelCheckpoint, EarlyStopping\n",
    "\n",
    "from sklearn import metrics\n",
    "from sklearn.metrics import confusion_matrix, classification_report\n",
    "from sklearn.preprocessing import LabelEncoder"
   ]
  },
  {
   "cell_type": "code",
   "execution_count": 2,
   "metadata": {},
   "outputs": [],
   "source": [
    "with open(r'.\\News_Dataset_Splits\\X_train.pkl', 'rb') as f:\n",
    "    X_train = pickle.load(f)\n",
    "\n",
    "with open(r'.\\News_Dataset_Splits\\X_val.pkl', 'rb') as f:\n",
    "    X_val = pickle.load(f)\n",
    "\n",
    "with open(r'.\\News_Dataset_Splits\\X_test.pkl', 'rb') as f:\n",
    "    X_test = pickle.load(f)\n",
    "\n",
    "with open(r'.\\News_Dataset_Splits\\y_train.pkl', 'rb') as f:\n",
    "    y_train = pickle.load(f)\n",
    "\n",
    "with open(r'.\\News_Dataset_Splits\\y_val.pkl', 'rb') as f:\n",
    "    y_val = pickle.load(f)\n",
    "\n",
    "with open(r'.\\News_Dataset_Splits\\y_test.pkl', 'rb') as f:\n",
    "    y_test = pickle.load(f)\n",
    "\n",
    "encoder = LabelEncoder()\n",
    "encoder.fit(np.unique(y_train))\n",
    "train_labels = encoder.transform(y_train)\n",
    "val_labels = encoder.transform(y_val)\n",
    "test_labels = encoder.transform(y_test)\n",
    "num_classes = len(encoder.classes_)\n",
    "train_one_hot = keras.utils.to_categorical(train_labels, num_classes=num_classes)\n",
    "val_one_hot = keras.utils.to_categorical(val_labels, num_classes=num_classes)\n",
    "test_one_hot = keras.utils.to_categorical(test_labels, num_classes=num_classes)\n",
    "\n",
    "with open(r'.\\embeddingMatrix_News.pkl', 'rb') as f:\n",
    "    embedding_matrix = pickle.load(f)\n",
    "\n",
    "num_tokens = len(embedding_matrix) # total vocabulary +1 or length of embedding matrix\n",
    "embedding_dim = 300 # dimension of the vector of a single word\n",
    "MAX_NEWS_LEN = 500 # maximum words in a review"
   ]
  },
  {
   "cell_type": "code",
   "execution_count": 3,
   "metadata": {},
   "outputs": [],
   "source": [
    "embedding_layer = keras.layers.Embedding(\n",
    "    num_tokens,\n",
    "    embedding_dim,\n",
    "    embeddings_initializer=keras.initializers.Constant(embedding_matrix),\n",
    "    input_length=MAX_NEWS_LEN,\n",
    "    trainable=True)\n",
    "\n",
    "model = keras.Sequential()\n",
    "model.add(embedding_layer)\n",
    "\n",
    "activation = 'softplus'\n",
    "kernel_initializer = 'random_uniform'\n",
    "\n",
    "model.add(layers.Conv1D(filters=128, kernel_size=5, activation=activation, kernel_initializer=kernel_initializer, padding='same'))\n",
    "model.add(layers.Dropout(rate=0.2))\n",
    "model.add(layers.MaxPooling1D(pool_size=2))\n",
    "\n",
    "model.add(layers.GlobalAveragePooling1D())\n",
    "model.add(layers.Dense(num_classes, activation='softmax'))\n",
    "\n",
    "model.compile(optimizer='Adam', loss='categorical_crossentropy', metrics=['accuracy'])"
   ]
  },
  {
   "cell_type": "code",
   "execution_count": 4,
   "metadata": {},
   "outputs": [
    {
     "name": "stdout",
     "output_type": "stream",
     "text": [
      "Epoch 1/2\n",
      "1488/1488 [==============================] - 51s 32ms/step - loss: 0.8851 - accuracy: 0.7481 - val_loss: 0.6324 - val_accuracy: 0.8354\n",
      "Epoch 2/2\n",
      "1488/1488 [==============================] - 47s 32ms/step - loss: 0.4476 - accuracy: 0.8804 - val_loss: 0.5996 - val_accuracy: 0.8362\n"
     ]
    }
   ],
   "source": [
    "NUM_EPOCHS = 2\n",
    "BATCH_SIZE = 128\n",
    "history = model.fit(X_train, train_one_hot, epochs=NUM_EPOCHS, batch_size=BATCH_SIZE, validation_data=(X_val, val_one_hot))"
   ]
  },
  {
   "cell_type": "code",
   "execution_count": 5,
   "metadata": {},
   "outputs": [
    {
     "name": "stdout",
     "output_type": "stream",
     "text": [
      "1488/1488 [==============================] - 3s 2ms/step - loss: 0.5996 - accuracy: 0.8362\n",
      "Validation loss:  0.5996134877204895\n",
      "Validation accuracy:  0.8362184762954712\n"
     ]
    }
   ],
   "source": [
    "score = model.evaluate(X_val, val_one_hot, verbose=1)\n",
    "print(\"Validation loss: \", score[0])\n",
    "print(\"Validation accuracy: \", score[1])"
   ]
  },
  {
   "cell_type": "code",
   "execution_count": 6,
   "metadata": {},
   "outputs": [
    {
     "name": "stdout",
     "output_type": "stream",
     "text": [
      "1313/1313 [==============================] - 2s 1ms/step\n",
      "[[0.8245977  0.013396   0.02168843 0.01060158 0.01484674 0.0173494\n",
      "  0.02122803 0.00523697 0.01705209 0.03369463]\n",
      " [0.01586207 0.8333725  0.02028918 0.01109467 0.01748084 0.01012048\n",
      "  0.05227117 0.02985075 0.01261388 0.00636192]\n",
      " [0.02574713 0.01457109 0.7889459  0.01282051 0.04861111 0.01493976\n",
      "  0.03538005 0.00445143 0.00934361 0.02097078]\n",
      " [0.01701149 0.01245593 0.02262127 0.83974359 0.05627395 0.01710843\n",
      "  0.01574983 0.00209479 0.01378183 0.01248822]\n",
      " [0.02045977 0.01104583 0.04897388 0.06977318 0.77274904 0.03855422\n",
      "  0.02876056 0.00366588 0.01751927 0.02309142]\n",
      " [0.01678161 0.00822562 0.02751866 0.01306706 0.03783525 0.86915663\n",
      "  0.00798904 0.00288034 0.01985517 0.01154571]\n",
      " [0.01609195 0.03666275 0.02518657 0.01060158 0.01891762 0.00819277\n",
      "  0.7849806  0.0102121  0.01494978 0.00918944]\n",
      " [0.00712644 0.04911868 0.01166045 0.0071499  0.00670498 0.00506024\n",
      "  0.0257932  0.93820372 0.01074515 0.00730443]\n",
      " [0.02091954 0.01034078 0.01119403 0.01306706 0.01484674 0.01108434\n",
      "  0.01803241 0.00183294 0.86218173 0.02049953]\n",
      " [0.0354023  0.01081081 0.02192164 0.01208087 0.01173372 0.00843373\n",
      "  0.00981511 0.00157109 0.02195749 0.85485391]]\n"
     ]
    }
   ],
   "source": [
    "y_prediction = model.predict(X_test)\n",
    "y_prediction = np.argmax(y_prediction, axis=1)\n",
    "y_actuals = np.argmax(test_one_hot, axis=1)\n",
    "#Create confusion matrix and normalizes it over predicted (columns)\n",
    "result = confusion_matrix(y_actuals, y_prediction , normalize='pred')\n",
    "print(result)"
   ]
  },
  {
   "cell_type": "code",
   "execution_count": 7,
   "metadata": {},
   "outputs": [
    {
     "name": "stdout",
     "output_type": "stream",
     "text": [
      "CNN accuracy is 83.56%\n",
      "------------------------------------------------\n",
      "Confusion Matrix:\n",
      "      0     1     2     3     4     5     6     7     8     9\n",
      "0  3587    57    93    43    62    72    93    20    73   143\n",
      "1    69  3546    87    45    73    42   229   114    54    27\n",
      "2   112    62  3383    52   203    62   155    17    40    89\n",
      "3    74    53    97  3406   235    71    69     8    59    53\n",
      "4    89    47   210   283  3227   160   126    14    75    98\n",
      "5    73    35   118    53   158  3607    35    11    85    49\n",
      "6    70   156   108    43    79    34  3439    39    64    39\n",
      "7    31   209    50    29    28    21   113  3583    46    31\n",
      "8    91    44    48    53    62    46    79     7  3691    87\n",
      "9   154    46    94    49    49    35    43     6    94  3628\n",
      "------------------------------------------------\n",
      "Classification Report:\n",
      "              precision    recall  f1-score   support\n",
      "\n",
      "           0       0.82      0.85      0.83      4243\n",
      "           1       0.83      0.83      0.83      4286\n",
      "           2       0.79      0.81      0.80      4175\n",
      "           3       0.84      0.83      0.83      4125\n",
      "           4       0.77      0.75      0.76      4329\n",
      "           5       0.87      0.85      0.86      4224\n",
      "           6       0.78      0.84      0.81      4071\n",
      "           7       0.94      0.87      0.90      4141\n",
      "           8       0.86      0.88      0.87      4208\n",
      "           9       0.85      0.86      0.86      4198\n",
      "\n",
      "    accuracy                           0.84     42000\n",
      "   macro avg       0.84      0.84      0.84     42000\n",
      "weighted avg       0.84      0.84      0.84     42000\n",
      "\n"
     ]
    }
   ],
   "source": [
    "accuracy_score = metrics.accuracy_score(y_prediction, y_actuals)\n",
    "\n",
    "print('CNN accuracy is',str('{:04.2f}'.format(accuracy_score*100))+'%')\n",
    "print('------------------------------------------------')\n",
    "print('Confusion Matrix:')\n",
    "print(pd.DataFrame(confusion_matrix(y_actuals, y_prediction)))\n",
    "print('------------------------------------------------')\n",
    "print('Classification Report:')\n",
    "print(classification_report(y_actuals, y_prediction))"
   ]
  },
  {
   "cell_type": "code",
   "execution_count": 8,
   "metadata": {},
   "outputs": [],
   "source": [
    "import matplotlib.pyplot as plt\n",
    "import seaborn as sns"
   ]
  },
  {
   "cell_type": "code",
   "execution_count": 9,
   "metadata": {},
   "outputs": [
    {
     "data": {
      "image/png": "[encoded data removed]",
      "text/plain": [
       "<Figure size 640x480 with 2 Axes>"
      ]
     },
     "metadata": {},
     "output_type": "display_data"
    }
   ],
   "source": [
    "# Create a confusion matrix\n",
    "confusion_matrix = np.zeros((num_classes, num_classes))\n",
    "for i in range(len(y_prediction)):\n",
    "    confusion_matrix[y_actuals[i], y_prediction[i]] += 1\n",
    "\n",
    "# Normalize the confusion matrix to show percentages\n",
    "confusion_matrix = 100 * confusion_matrix / confusion_matrix.sum(axis=1, keepdims=True)\n",
    "\n",
    "lables = [1, 2, 3, 4, 5, 6, 7, 8, 9, 10]\n",
    "# Create a heatmap with annotation\n",
    "annot_matrix = np.around(confusion_matrix, 1).astype(int)  # Round percentages to 1 decimal place\n",
    "ax = sns.heatmap(confusion_matrix, annot=annot_matrix, fmt='d', cmap=\"YlGnBu\", xticklabels=lables, yticklabels=lables)\n",
    "\n",
    "# Set the title and axis labels\n",
    "plt.title(\"News Classification Heatmap (Percentage)\")\n",
    "plt.xlabel(\"Predicted Categories\")\n",
    "plt.ylabel(\"Actual Categories\")\n",
    "\n",
    "# Rotate the x-axis labels for better visibility\n",
    "plt.yticks(rotation=0)\n",
    "\n",
    "# Display the heatmap\n",
    "plt.show()"
   ]
  },
  {
   "cell_type": "code",
   "execution_count": 10,
   "metadata": {},
   "outputs": [],
   "source": [
    "from tensorflow.keras.models import load_model\n",
    "import os\n",
    "\n",
    "# Save the model\n",
    "model_save_path = 'SavedModels/CNN_BestModel.h5'\n",
    "model.save(model_save_path)"
   ]
  },
  {
   "cell_type": "code",
   "execution_count": 11,
   "metadata": {},
   "outputs": [
    {
     "name": "stdout",
     "output_type": "stream",
     "text": [
      "1488/1488 [==============================] - 3s 2ms/step - loss: 0.5996 - accuracy: 0.8362\n",
      "Validation loss:  0.5996134877204895\n",
      "Validation accuracy:  0.8362184762954712\n"
     ]
    }
   ],
   "source": [
    "# Load the model\n",
    "loaded_model = load_model(model_save_path)\n",
    "score2 = loaded_model.evaluate(X_val, val_one_hot, verbose=1)\n",
    "print(\"Validation loss: \", score2[0])\n",
    "print(\"Validation accuracy: \", score2[1])"
   ]
  }
 ],
 "metadata": {
  "kernelspec": {
   "display_name": "nlpd",
   "language": "python",
   "name": "python3"
  },
  "language_info": {
   "codemirror_mode": {
    "name": "ipython",
    "version": 3
   },
   "file_extension": ".py",
   "mimetype": "text/x-python",
   "name": "python",
   "nbconvert_exporter": "python",
   "pygments_lexer": "ipython3",
   "version": "3.10.1"
  }
 },
 "nbformat": 4,
 "nbformat_minor": 2
}
