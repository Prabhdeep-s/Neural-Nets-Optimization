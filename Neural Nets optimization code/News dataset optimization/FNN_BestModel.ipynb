{
 "cells": [
  {
   "cell_type": "code",
   "execution_count": 1,
   "metadata": {},
   "outputs": [],
   "source": [
    "import pickle\n",
    "import numpy as np\n",
    "import pandas as pd\n",
    "from datetime import datetime\n",
    "import os\n",
    "\n",
    "import tensorflow as tf\n",
    "from tensorflow import keras\n",
    "from tensorflow.keras import layers, models\n",
    "import keras_tuner as kt\n",
    "from tensorflow.keras.callbacks import TensorBoard, ModelCheckpoint, EarlyStopping\n",
    "\n",
    "from sklearn import metrics\n",
    "from sklearn.metrics import confusion_matrix, classification_report\n",
    "from sklearn.preprocessing import LabelEncoder"
   ]
  },
  {
   "cell_type": "code",
   "execution_count": 2,
   "metadata": {},
   "outputs": [],
   "source": [
    "with open(r'.\\News_Dataset_Splits\\X_train.pkl', 'rb') as f:\n",
    "    X_train = pickle.load(f)\n",
    "\n",
    "with open(r'.\\News_Dataset_Splits\\X_val.pkl', 'rb') as f:\n",
    "    X_val = pickle.load(f)\n",
    "\n",
    "with open(r'.\\News_Dataset_Splits\\X_test.pkl', 'rb') as f:\n",
    "    X_test = pickle.load(f)\n",
    "\n",
    "with open(r'.\\News_Dataset_Splits\\y_train.pkl', 'rb') as f:\n",
    "    y_train = pickle.load(f)\n",
    "\n",
    "with open(r'.\\News_Dataset_Splits\\y_val.pkl', 'rb') as f:\n",
    "    y_val = pickle.load(f)\n",
    "\n",
    "with open(r'.\\News_Dataset_Splits\\y_test.pkl', 'rb') as f:\n",
    "    y_test = pickle.load(f)\n",
    "\n",
    "encoder = LabelEncoder()\n",
    "encoder.fit(np.unique(y_train))\n",
    "train_labels = encoder.transform(y_train)\n",
    "val_labels = encoder.transform(y_val)\n",
    "test_labels = encoder.transform(y_test)\n",
    "num_classes = len(encoder.classes_)\n",
    "train_one_hot = keras.utils.to_categorical(train_labels, num_classes=num_classes)\n",
    "val_one_hot = keras.utils.to_categorical(val_labels, num_classes=num_classes)\n",
    "test_one_hot = keras.utils.to_categorical(test_labels, num_classes=num_classes)\n",
    "\n",
    "with open(r'.\\embeddingMatrix_News.pkl', 'rb') as f:\n",
    "    embedding_matrix = pickle.load(f)\n",
    "\n",
    "num_tokens = len(embedding_matrix) # total vocabulary +1 or length of embedding matrix\n",
    "embedding_dim = 300 # dimension of the vector of a single word\n",
    "MAX_NEWS_LEN = 500 # maximum words in a review"
   ]
  },
  {
   "cell_type": "code",
   "execution_count": 3,
   "metadata": {},
   "outputs": [],
   "source": [
    "embedding_layer = keras.layers.Embedding(\n",
    "    num_tokens,\n",
    "    embedding_dim,\n",
    "    embeddings_initializer=keras.initializers.Constant(embedding_matrix),\n",
    "    input_length=MAX_NEWS_LEN,\n",
    "    trainable=True)\n",
    "\n",
    "model = keras.Sequential()\n",
    "model.add(embedding_layer)\n",
    "model.add(keras.layers.GlobalAveragePooling1D())\n",
    "\n",
    "model.add(layers.Dense(units=128, activation='relu', kernel_initializer='he_uniform'))\n",
    "model.add(layers.Dropout(rate=0.2))\n",
    "\n",
    "# Output Layer\n",
    "model.add(layers.Dense(num_classes, activation='softmax'))\n",
    "model.compile(optimizer='Adamax', loss='categorical_crossentropy', metrics=['accuracy'])"
   ]
  },
  {
   "cell_type": "code",
   "execution_count": 4,
   "metadata": {},
   "outputs": [
    {
     "name": "stdout",
     "output_type": "stream",
     "text": [
      "Epoch 1/12\n",
      "1488/1488 [==============================] - 7s 4ms/step - loss: 1.4348 - accuracy: 0.5711 - val_loss: 0.9903 - val_accuracy: 0.7206\n",
      "Epoch 2/12\n",
      "1488/1488 [==============================] - 6s 4ms/step - loss: 0.8660 - accuracy: 0.7481 - val_loss: 0.7749 - val_accuracy: 0.7754\n",
      "Epoch 3/12\n",
      "1488/1488 [==============================] - 6s 4ms/step - loss: 0.7006 - accuracy: 0.7974 - val_loss: 0.6665 - val_accuracy: 0.8043\n",
      "Epoch 4/12\n",
      "1488/1488 [==============================] - 6s 4ms/step - loss: 0.6092 - accuracy: 0.8209 - val_loss: 0.6180 - val_accuracy: 0.8158\n",
      "Epoch 5/12\n",
      "1488/1488 [==============================] - 6s 4ms/step - loss: 0.5532 - accuracy: 0.8362 - val_loss: 0.5794 - val_accuracy: 0.8272\n",
      "Epoch 6/12\n",
      "1488/1488 [==============================] - 6s 4ms/step - loss: 0.5129 - accuracy: 0.8472 - val_loss: 0.5589 - val_accuracy: 0.8331\n",
      "Epoch 7/12\n",
      "1488/1488 [==============================] - 6s 4ms/step - loss: 0.4814 - accuracy: 0.8553 - val_loss: 0.5431 - val_accuracy: 0.8372\n",
      "Epoch 8/12\n",
      "1488/1488 [==============================] - 6s 4ms/step - loss: 0.4543 - accuracy: 0.8631 - val_loss: 0.5362 - val_accuracy: 0.8382\n",
      "Epoch 9/12\n",
      "1488/1488 [==============================] - 6s 4ms/step - loss: 0.4281 - accuracy: 0.8703 - val_loss: 0.5276 - val_accuracy: 0.8426\n",
      "Epoch 10/12\n",
      "1488/1488 [==============================] - 6s 4ms/step - loss: 0.4053 - accuracy: 0.8771 - val_loss: 0.5223 - val_accuracy: 0.8434\n",
      "Epoch 11/12\n",
      "1488/1488 [==============================] - 6s 4ms/step - loss: 0.3845 - accuracy: 0.8820 - val_loss: 0.5197 - val_accuracy: 0.8433\n",
      "Epoch 12/12\n",
      "1488/1488 [==============================] - 6s 4ms/step - loss: 0.3647 - accuracy: 0.8876 - val_loss: 0.5134 - val_accuracy: 0.8481\n"
     ]
    }
   ],
   "source": [
    "NUM_EPOCHS = 12\n",
    "BATCH_SIZE = 128\n",
    "history = model.fit(X_train, train_one_hot, epochs=NUM_EPOCHS, batch_size=BATCH_SIZE, validation_data=(X_val, val_one_hot))"
   ]
  },
  {
   "cell_type": "code",
   "execution_count": 5,
   "metadata": {},
   "outputs": [
    {
     "name": "stdout",
     "output_type": "stream",
     "text": [
      "1488/1488 [==============================] - 3s 2ms/step - loss: 0.5134 - accuracy: 0.8481\n",
      "Validation loss:  0.5134003162384033\n",
      "Validation accuracy:  0.8481302261352539\n"
     ]
    }
   ],
   "source": [
    "score = model.evaluate(X_val, val_one_hot, verbose=1)\n",
    "print(\"Validation loss: \", score[0])\n",
    "print(\"Validation accuracy: \", score[1])"
   ]
  },
  {
   "cell_type": "code",
   "execution_count": 6,
   "metadata": {},
   "outputs": [
    {
     "name": "stdout",
     "output_type": "stream",
     "text": [
      "1313/1313 [==============================] - 1s 937us/step\n",
      "[[0.81618294 0.01333957 0.01810487 0.01084599 0.01421801 0.0114643\n",
      "  0.01365597 0.00782014 0.00796332 0.03001464]\n",
      " [0.01605101 0.83969108 0.01786974 0.01181007 0.01624915 0.00833768\n",
      "  0.0409679  0.04056696 0.00892857 0.00536847]\n",
      " [0.02418646 0.01450971 0.80907595 0.01253314 0.04197698 0.01433038\n",
      "  0.03066603 0.0083089  0.01061776 0.01537335]\n",
      " [0.01693052 0.01450971 0.01881025 0.83923837 0.05303543 0.01302762\n",
      "  0.01341639 0.00488759 0.00820463 0.00707662]\n",
      " [0.01759015 0.01146735 0.04138255 0.07061943 0.7666441  0.02475248\n",
      "  0.02515573 0.00610948 0.01423745 0.01220107]\n",
      " [0.0294635  0.01006319 0.02915589 0.01108701 0.05168134 0.90203231\n",
      "  0.01030187 0.00488759 0.01906371 0.01073694]\n",
      " [0.02044855 0.03533817 0.0258641  0.01132803 0.02008576 0.0054716\n",
      "  0.82055582 0.01441838 0.01423745 0.00414837]\n",
      " [0.00703606 0.03931664 0.01058077 0.00674861 0.0051907  0.00312663\n",
      "  0.01844753 0.90786901 0.00530888 0.00463641]\n",
      " [0.02132806 0.01193541 0.00987538 0.01132803 0.0182803  0.00964044\n",
      "  0.01677048 0.00317693 0.89237452 0.01756955]\n",
      " [0.03078276 0.00982916 0.01928051 0.01446132 0.01263823 0.00781657\n",
      "  0.01006229 0.00195503 0.01906371 0.89287457]]\n"
     ]
    }
   ],
   "source": [
    "y_prediction = model.predict(X_test)\n",
    "y_prediction = np.argmax(y_prediction, axis=1)\n",
    "y_actuals = np.argmax(test_one_hot, axis=1)\n",
    "#Create confusion matrix and normalizes it over predicted (columns)\n",
    "result = confusion_matrix(y_actuals, y_prediction , normalize='pred')\n",
    "print(result)"
   ]
  },
  {
   "cell_type": "code",
   "execution_count": 7,
   "metadata": {},
   "outputs": [
    {
     "name": "stdout",
     "output_type": "stream",
     "text": [
      "FNN accuracy is 84.71%\n",
      "------------------------------------------------\n",
      "Confusion Matrix:\n",
      "      0     1     2     3     4     5     6     7     8     9\n",
      "0  3712    57    77    45    63    44    57    32    33   123\n",
      "1    73  3588    76    49    72    32   171   166    37    22\n",
      "2   110    62  3441    52   186    55   128    34    44    63\n",
      "3    77    62    80  3482   235    50    56    20    34    29\n",
      "4    80    49   176   293  3397    95   105    25    59    50\n",
      "5   134    43   124    46   229  3462    43    20    79    44\n",
      "6    93   151   110    47    89    21  3425    59    59    17\n",
      "7    32   168    45    28    23    12    77  3715    22    19\n",
      "8    97    51    42    47    81    37    70    13  3698    72\n",
      "9   140    42    82    60    56    30    42     8    79  3659\n",
      "------------------------------------------------\n",
      "Classification Report:\n",
      "              precision    recall  f1-score   support\n",
      "\n",
      "           0       0.82      0.87      0.84      4243\n",
      "           1       0.84      0.84      0.84      4286\n",
      "           2       0.81      0.82      0.82      4175\n",
      "           3       0.84      0.84      0.84      4125\n",
      "           4       0.77      0.78      0.78      4329\n",
      "           5       0.90      0.82      0.86      4224\n",
      "           6       0.82      0.84      0.83      4071\n",
      "           7       0.91      0.90      0.90      4141\n",
      "           8       0.89      0.88      0.89      4208\n",
      "           9       0.89      0.87      0.88      4198\n",
      "\n",
      "    accuracy                           0.85     42000\n",
      "   macro avg       0.85      0.85      0.85     42000\n",
      "weighted avg       0.85      0.85      0.85     42000\n",
      "\n"
     ]
    }
   ],
   "source": [
    "accuracy_score = metrics.accuracy_score(y_prediction, y_actuals)\n",
    "\n",
    "print('FNN accuracy is',str('{:04.2f}'.format(accuracy_score*100))+'%')\n",
    "print('------------------------------------------------')\n",
    "print('Confusion Matrix:')\n",
    "print(pd.DataFrame(confusion_matrix(y_actuals, y_prediction)))\n",
    "print('------------------------------------------------')\n",
    "print('Classification Report:')\n",
    "print(classification_report(y_actuals, y_prediction))"
   ]
  },
  {
   "cell_type": "code",
   "execution_count": 8,
   "metadata": {},
   "outputs": [],
   "source": [
    "import matplotlib.pyplot as plt\n",
    "import seaborn as sns"
   ]
  },
  {
   "cell_type": "code",
   "execution_count": 10,
   "metadata": {},
   "outputs": [
    {
     "data": {
      "image/png": "[encoded data removed]",
      "text/plain": [
       "<Figure size 640x480 with 2 Axes>"
      ]
     },
     "metadata": {},
     "output_type": "display_data"
    }
   ],
   "source": [
    "# Create a confusion matrix\n",
    "confusion_matrix = np.zeros((num_classes, num_classes))\n",
    "for i in range(len(y_prediction)):\n",
    "    confusion_matrix[y_actuals[i], y_prediction[i]] += 1\n",
    "\n",
    "# Normalize the confusion matrix to show percentages\n",
    "confusion_matrix = 100 * confusion_matrix / confusion_matrix.sum(axis=1, keepdims=True)\n",
    "\n",
    "lables = [1, 2, 3, 4, 5, 6, 7, 8, 9, 10]\n",
    "# Create a heatmap with annotation\n",
    "annot_matrix = np.around(confusion_matrix, 1).astype(int)  # Round percentages to 1 decimal place\n",
    "ax = sns.heatmap(confusion_matrix, annot=annot_matrix, fmt='d', cmap=\"YlGnBu\", xticklabels=lables, yticklabels=lables)\n",
    "\n",
    "# Set the title and axis labels\n",
    "plt.title(\"News Classification Heatmap (Percentage)\")\n",
    "plt.xlabel(\"Predicted Categories\")\n",
    "plt.ylabel(\"Actual Categories\")\n",
    "\n",
    "# Rotate the x-axis labels for better visibility\n",
    "plt.yticks(rotation=0)\n",
    "\n",
    "# Display the heatmap\n",
    "plt.show()"
   ]
  },
  {
   "cell_type": "code",
   "execution_count": 11,
   "metadata": {},
   "outputs": [],
   "source": [
    "from tensorflow.keras.models import load_model\n",
    "import os\n",
    "\n",
    "# Save the model\n",
    "model_save_path = 'SavedModels/FNN_BestModel.h5'\n",
    "model.save(model_save_path)"
   ]
  },
  {
   "cell_type": "code",
   "execution_count": 13,
   "metadata": {},
   "outputs": [
    {
     "name": "stdout",
     "output_type": "stream",
     "text": [
      "1488/1488 [==============================] - 3s 2ms/step - loss: 0.5134 - accuracy: 0.8481\n",
      "Validation loss:  0.5134003162384033\n",
      "Validation accuracy:  0.8481302261352539\n"
     ]
    }
   ],
   "source": [
    "# Load the model\n",
    "loaded_model = load_model(model_save_path)\n",
    "score2 = loaded_model.evaluate(X_val, val_one_hot, verbose=1)\n",
    "print(\"Validation loss: \", score2[0])\n",
    "print(\"Validation accuracy: \", score2[1])"
   ]
  }
 ],
 "metadata": {
  "kernelspec": {
   "display_name": "nlpd",
   "language": "python",
   "name": "python3"
  },
  "language_info": {
   "codemirror_mode": {
    "name": "ipython",
    "version": 3
   },
   "file_extension": ".py",
   "mimetype": "text/x-python",
   "name": "python",
   "nbconvert_exporter": "python",
   "pygments_lexer": "ipython3",
   "version": "3.10.1"
  }
 },
 "nbformat": 4,
 "nbformat_minor": 2
}
