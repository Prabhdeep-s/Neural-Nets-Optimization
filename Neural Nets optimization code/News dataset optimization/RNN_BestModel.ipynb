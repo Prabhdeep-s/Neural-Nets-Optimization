{
 "cells": [
  {
   "cell_type": "code",
   "execution_count": 1,
   "metadata": {},
   "outputs": [],
   "source": [
    "import pickle\n",
    "import numpy as np\n",
    "import pandas as pd\n",
    "from datetime import datetime\n",
    "import os\n",
    "\n",
    "import tensorflow as tf\n",
    "from tensorflow import keras\n",
    "from tensorflow.keras import layers, models\n",
    "import keras_tuner as kt\n",
    "from tensorflow.keras.callbacks import TensorBoard, ModelCheckpoint, EarlyStopping\n",
    "\n",
    "from sklearn import metrics\n",
    "from sklearn.metrics import confusion_matrix, classification_report\n",
    "from sklearn.preprocessing import LabelEncoder"
   ]
  },
  {
   "cell_type": "code",
   "execution_count": 2,
   "metadata": {},
   "outputs": [],
   "source": [
    "with open(r'.\\News_Dataset_Splits\\X_train.pkl', 'rb') as f:\n",
    "    X_train = pickle.load(f)\n",
    "\n",
    "with open(r'.\\News_Dataset_Splits\\X_val.pkl', 'rb') as f:\n",
    "    X_val = pickle.load(f)\n",
    "\n",
    "with open(r'.\\News_Dataset_Splits\\X_test.pkl', 'rb') as f:\n",
    "    X_test = pickle.load(f)\n",
    "\n",
    "with open(r'.\\News_Dataset_Splits\\y_train.pkl', 'rb') as f:\n",
    "    y_train = pickle.load(f)\n",
    "\n",
    "with open(r'.\\News_Dataset_Splits\\y_val.pkl', 'rb') as f:\n",
    "    y_val = pickle.load(f)\n",
    "\n",
    "with open(r'.\\News_Dataset_Splits\\y_test.pkl', 'rb') as f:\n",
    "    y_test = pickle.load(f)\n",
    "\n",
    "encoder = LabelEncoder()\n",
    "encoder.fit(np.unique(y_train))\n",
    "train_labels = encoder.transform(y_train)\n",
    "val_labels = encoder.transform(y_val)\n",
    "test_labels = encoder.transform(y_test)\n",
    "num_classes = len(encoder.classes_)\n",
    "train_one_hot = keras.utils.to_categorical(train_labels, num_classes=num_classes)\n",
    "val_one_hot = keras.utils.to_categorical(val_labels, num_classes=num_classes)\n",
    "test_one_hot = keras.utils.to_categorical(test_labels, num_classes=num_classes)\n",
    "\n",
    "with open(r'.\\embeddingMatrix_News.pkl', 'rb') as f:\n",
    "    embedding_matrix = pickle.load(f)\n",
    "\n",
    "num_tokens = len(embedding_matrix) # total vocabulary +1 or length of embedding matrix\n",
    "embedding_dim = 300 # dimension of the vector of a single word\n",
    "MAX_NEWS_LEN = 500 # maximum words in a review"
   ]
  },
  {
   "cell_type": "code",
   "execution_count": 3,
   "metadata": {},
   "outputs": [],
   "source": [
    "embedding_layer = keras.layers.Embedding(\n",
    "    num_tokens,\n",
    "    embedding_dim,\n",
    "    embeddings_initializer=keras.initializers.Constant(embedding_matrix),\n",
    "    input_length=MAX_NEWS_LEN,\n",
    "    trainable=True,\n",
    "    mask_zero=True)\n",
    "\n",
    "model = keras.Sequential()\n",
    "model.add(embedding_layer)\n",
    "\n",
    "activation = 'tanh'\n",
    "kernel_initializer = 'glorot_uniform'\n",
    "\n",
    "model.add(layers.LSTM(128, activation=activation, kernel_initializer=kernel_initializer, return_sequences=True))\n",
    "\n",
    "model.add(layers.LSTM(128, activation=activation, kernel_initializer=kernel_initializer, return_sequences=False))\n",
    "model.add(layers.BatchNormalization())\n",
    "\n",
    "model.add(layers.Dense(num_classes, activation='softmax'))\n",
    "\n",
    "model.compile(optimizer='RMSprop', loss='categorical_crossentropy', metrics=['accuracy'])"
   ]
  },
  {
   "cell_type": "code",
   "execution_count": 4,
   "metadata": {},
   "outputs": [
    {
     "name": "stdout",
     "output_type": "stream",
     "text": [
      "Epoch 1/3\n",
      "1488/1488 [==============================] - 154s 98ms/step - loss: 0.9010 - accuracy: 0.7389 - val_loss: 0.7245 - val_accuracy: 0.7988\n",
      "Epoch 2/3\n",
      "1488/1488 [==============================] - 144s 96ms/step - loss: 0.5297 - accuracy: 0.8439 - val_loss: 0.5011 - val_accuracy: 0.8489\n",
      "Epoch 3/3\n",
      "1488/1488 [==============================] - 142s 96ms/step - loss: 0.3726 - accuracy: 0.8850 - val_loss: 0.5132 - val_accuracy: 0.8382\n"
     ]
    }
   ],
   "source": [
    "NUM_EPOCHS = 3\n",
    "BATCH_SIZE = 128\n",
    "history = model.fit(X_train, train_one_hot, epochs=NUM_EPOCHS, batch_size=BATCH_SIZE, validation_data=(X_val, val_one_hot))"
   ]
  },
  {
   "cell_type": "code",
   "execution_count": 5,
   "metadata": {},
   "outputs": [
    {
     "name": "stdout",
     "output_type": "stream",
     "text": [
      "1488/1488 [==============================] - 34s 23ms/step - loss: 0.5132 - accuracy: 0.8382\n",
      "Validation loss:  0.5132242441177368\n",
      "Validation accuracy:  0.8381932973861694\n"
     ]
    }
   ],
   "source": [
    "score = model.evaluate(X_val, val_one_hot, verbose=1)\n",
    "print(\"Validation loss: \", score[0])\n",
    "print(\"Validation accuracy: \", score[1])"
   ]
  },
  {
   "cell_type": "code",
   "execution_count": 6,
   "metadata": {},
   "outputs": [
    {
     "name": "stdout",
     "output_type": "stream",
     "text": [
      "1313/1313 [==============================] - 32s 23ms/step\n",
      "[[0.84936351 0.01184394 0.01760412 0.00549163 0.01082707 0.04254975\n",
      "  0.00960219 0.00435897 0.00342556 0.02958293]\n",
      " [0.01438001 0.85322805 0.0193216  0.00627615 0.01443609 0.02248827\n",
      "  0.02798354 0.02769231 0.00632411 0.00387973]\n",
      " [0.01603017 0.01207617 0.77801632 0.00706067 0.01233083 0.03834331\n",
      "  0.01563786 0.00282051 0.00447958 0.0099418 ]\n",
      " [0.0174446  0.01346958 0.02576213 0.88153766 0.05293233 0.03704902\n",
      "  0.00823045 0.00153846 0.00632411 0.00897187]\n",
      " [0.01532296 0.010915   0.05474453 0.0541318  0.84090226 0.12845818\n",
      "  0.01865569 0.00282051 0.00948617 0.01212415]\n",
      " [0.01225837 0.00557362 0.01889223 0.00810669 0.01353383 0.63274551\n",
      "  0.00356653 0.00128205 0.00527009 0.00848691]\n",
      " [0.02310231 0.04203437 0.03885788 0.01019874 0.01744361 0.02879793\n",
      "  0.88916324 0.00512821 0.01370224 0.00557711]\n",
      " [0.00801509 0.03228054 0.0137398  0.00862971 0.00421053 0.00873645\n",
      "  0.01481481 0.95128205 0.00632411 0.00363725]\n",
      " [0.02758133 0.00719926 0.01009017 0.0083682  0.01744361 0.04157903\n",
      "  0.00740741 0.00179487 0.93386034 0.02133851]\n",
      " [0.01650165 0.01137947 0.02297123 0.01019874 0.01593985 0.01925255\n",
      "  0.00493827 0.00128205 0.01080369 0.89645975]]\n"
     ]
    }
   ],
   "source": [
    "y_prediction = model.predict(X_test)\n",
    "y_prediction = np.argmax(y_prediction, axis=1)\n",
    "y_actuals = np.argmax(test_one_hot, axis=1)\n",
    "#Create confusion matrix and normalizes it over predicted (columns)\n",
    "result = confusion_matrix(y_actuals, y_prediction , normalize='pred')\n",
    "print(result)"
   ]
  },
  {
   "cell_type": "code",
   "execution_count": 7,
   "metadata": {},
   "outputs": [
    {
     "name": "stdout",
     "output_type": "stream",
     "text": [
      "RNN accuracy is 83.74%\n",
      "------------------------------------------------\n",
      "Confusion Matrix:\n",
      "      0     1     2     3     4     5     6     7     8     9\n",
      "0  3603    51    82    21    36   263    35    17    13   122\n",
      "1    61  3674    90    24    48   139   102   108    24    16\n",
      "2    68    52  3624    27    41   237    57    11    17    41\n",
      "3    74    58   120  3371   176   229    30     6    24    37\n",
      "4    65    47   255   207  2796   794    68    11    36    50\n",
      "5    52    24    88    31    45  3911    13     5    20    35\n",
      "6    98   181   181    39    58   178  3241    20    52    23\n",
      "7    34   139    64    33    14    54    54  3710    24    15\n",
      "8   117    31    47    32    58   257    27     7  3544    88\n",
      "9    70    49   107    39    53   119    18     5    41  3697\n",
      "------------------------------------------------\n",
      "Classification Report:\n",
      "              precision    recall  f1-score   support\n",
      "\n",
      "           0       0.85      0.85      0.85      4243\n",
      "           1       0.85      0.86      0.86      4286\n",
      "           2       0.78      0.87      0.82      4175\n",
      "           3       0.88      0.82      0.85      4125\n",
      "           4       0.84      0.65      0.73      4329\n",
      "           5       0.63      0.93      0.75      4224\n",
      "           6       0.89      0.80      0.84      4071\n",
      "           7       0.95      0.90      0.92      4141\n",
      "           8       0.93      0.84      0.89      4208\n",
      "           9       0.90      0.88      0.89      4198\n",
      "\n",
      "    accuracy                           0.84     42000\n",
      "   macro avg       0.85      0.84      0.84     42000\n",
      "weighted avg       0.85      0.84      0.84     42000\n",
      "\n"
     ]
    }
   ],
   "source": [
    "accuracy_score = metrics.accuracy_score(y_prediction, y_actuals)\n",
    "\n",
    "print('RNN accuracy is',str('{:04.2f}'.format(accuracy_score*100))+'%')\n",
    "print('------------------------------------------------')\n",
    "print('Confusion Matrix:')\n",
    "print(pd.DataFrame(confusion_matrix(y_actuals, y_prediction)))\n",
    "print('------------------------------------------------')\n",
    "print('Classification Report:')\n",
    "print(classification_report(y_actuals, y_prediction))"
   ]
  },
  {
   "cell_type": "code",
   "execution_count": 8,
   "metadata": {},
   "outputs": [],
   "source": [
    "import matplotlib.pyplot as plt\n",
    "import seaborn as sns"
   ]
  },
  {
   "cell_type": "code",
   "execution_count": 9,
   "metadata": {},
   "outputs": [
    {
     "data": {
      "image/png": "[encoded data removed]",
      "text/plain": [
       "<Figure size 640x480 with 2 Axes>"
      ]
     },
     "metadata": {},
     "output_type": "display_data"
    }
   ],
   "source": [
    "# Create a confusion matrix\n",
    "confusion_matrix = np.zeros((num_classes, num_classes))\n",
    "for i in range(len(y_prediction)):\n",
    "    confusion_matrix[y_actuals[i], y_prediction[i]] += 1\n",
    "\n",
    "# Normalize the confusion matrix to show percentages\n",
    "confusion_matrix = 100 * confusion_matrix / confusion_matrix.sum(axis=1, keepdims=True)\n",
    "\n",
    "lables = [1, 2, 3, 4, 5, 6, 7, 8, 9, 10]\n",
    "# Create a heatmap with annotation\n",
    "annot_matrix = np.around(confusion_matrix, 1).astype(int)  # Round percentages to 1 decimal place\n",
    "ax = sns.heatmap(confusion_matrix, annot=annot_matrix, fmt='d', cmap=\"YlGnBu\", xticklabels=lables, yticklabels=lables)\n",
    "\n",
    "# Set the title and axis labels\n",
    "plt.title(\"News Classification Heatmap (Percentage)\")\n",
    "plt.xlabel(\"Predicted Categories\")\n",
    "plt.ylabel(\"Actual Categories\")\n",
    "\n",
    "# Rotate the x-axis labels for better visibility\n",
    "plt.yticks(rotation=0)\n",
    "\n",
    "# Display the heatmap\n",
    "plt.show()"
   ]
  },
  {
   "cell_type": "code",
   "execution_count": 10,
   "metadata": {},
   "outputs": [],
   "source": [
    "from tensorflow.keras.models import load_model\n",
    "import os\n",
    "\n",
    "# Save the model\n",
    "model_save_path = 'SavedModels/RNN_BestModel.h5'\n",
    "model.save(model_save_path)"
   ]
  },
  {
   "cell_type": "code",
   "execution_count": 11,
   "metadata": {},
   "outputs": [
    {
     "name": "stdout",
     "output_type": "stream",
     "text": [
      "1488/1488 [==============================] - 37s 24ms/step - loss: 0.5132 - accuracy: 0.8382\n",
      "Validation loss:  0.5132242441177368\n",
      "Validation accuracy:  0.8381932973861694\n"
     ]
    }
   ],
   "source": [
    "# Load the model\n",
    "loaded_model = load_model(model_save_path)\n",
    "score2 = loaded_model.evaluate(X_val, val_one_hot, verbose=1)\n",
    "print(\"Validation loss: \", score2[0])\n",
    "print(\"Validation accuracy: \", score2[1])"
   ]
  }
 ],
 "metadata": {
  "kernelspec": {
   "display_name": "nlpd",
   "language": "python",
   "name": "python3"
  },
  "language_info": {
   "codemirror_mode": {
    "name": "ipython",
    "version": 3
   },
   "file_extension": ".py",
   "mimetype": "text/x-python",
   "name": "python",
   "nbconvert_exporter": "python",
   "pygments_lexer": "ipython3",
   "version": "3.10.1"
  }
 },
 "nbformat": 4,
 "nbformat_minor": 2
}
